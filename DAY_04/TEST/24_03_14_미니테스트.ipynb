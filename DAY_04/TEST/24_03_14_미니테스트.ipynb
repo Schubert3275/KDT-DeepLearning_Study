{
 "cells": [
  {
   "cell_type": "markdown",
   "metadata": {},
   "source": [
    "#### [ 미니 테스트 2024-03-14 ]<hr>\n"
   ]
  },
  {
   "cell_type": "markdown",
   "metadata": {},
   "source": [
    "[1] 지도학습에 대한 설명과 종류에 대해서 간략하게 설명해 주세요.\n"
   ]
  },
  {
   "cell_type": "markdown",
   "metadata": {},
   "source": [
    "> -   문제(feature)와 답(target)이 주어진 상태로 데이터로부터 가중치를 학습시켜 새로운 입력에 대해 정확한 답을 낼 수 있는 모델을 만드는 것\n",
    "> -   회귀 : 연속적인 결과에 대해 값을 예측하는 것\n",
    "> -   분류 : 입력한 데이터가 속한 범주를 예측하는 것\n"
   ]
  },
  {
   "cell_type": "markdown",
   "metadata": {},
   "source": [
    "[2] 지도학습의 학습 프로세스를 간략하게 설명해 주세요.\n"
   ]
  },
  {
   "cell_type": "markdown",
   "metadata": {},
   "source": [
    "> -   데이터 준비\n",
    ">     -   데이터 분석\n",
    ">     -   데이터 전처리\n",
    "> -   모델 선택\n",
    ">     -   타겟의 분류에 따라 회귀/분류 및 적합한 모델 탐색\n",
    "> -   모델 학습\n",
    ">     -   준비한 데이터셋으로 모델을 학습시켜 출력과 정답간의 오차를 산출\n",
    ">     -   오차를 역전파하여 모델의 가중치를 업데이트\n",
    ">     -   위 과정을 반복하여 오차가 최소화되는 가중치를 학습\n",
    "> -   모델 평가\n",
    ">     -   별도의 평가용 데이터셋으로 모델의 성능을 평가\n",
    ">     -   모델에 따른 성능 지표 사용(회귀 : R2, MAE 등, 분류 : 정확도, F1 등)\n",
    "> -   모델 상용화\n",
    ">     -   평가 결과가 만족스러운 모델을 실제로 서비스\n"
   ]
  },
  {
   "cell_type": "markdown",
   "metadata": {},
   "source": [
    "[3] 선형회귀 대해 간략하게 설명해주세요.\n",
    "\n",
    "-   개념\n",
    "-   조건\n",
    "-   동작원리\n",
    "-   선형식\n",
    "-   오차/잔차 계산 방법\n"
   ]
  },
  {
   "cell_type": "markdown",
   "metadata": {},
   "source": [
    "> -   개념 :\n",
    ">     -   입력(Feature)과 출력(Target) 사이의 선형 관계를 모델링하는 알고리즘\n",
    "> -   조건 :\n",
    ">     -   입력(Feature)과 출력(Target) 사이에 선형 관계가 성립해야 함\n",
    "> -   동작원리 :\n",
    ">     -   손실 함수를 사용해 데이터와 직선 사이의 오차가 최소화되는 지점을 찾음\n",
    "> -   선형식 :\n",
    ">     -   y = x1 _ w1 + x2 _ w2 + ... + xn \\* wn + b (w: 가중치, b: 바이어스)\n",
    "> -   오차/잔차 계산 방법 :\n",
    ">     -   손실 함수를 사용해 데이터와 예측 값 사이의 오차(예 : MAE, MSE 등)를 계산하여 최적화 수행\n"
   ]
  },
  {
   "cell_type": "markdown",
   "metadata": {},
   "source": [
    "[4] 로지스틱회귀 대해 간략하게 설명해주세요.\n",
    "\n",
    "-   개념\n",
    "-   조건\n",
    "-   동작원리\n",
    "-   선형식\n",
    "-   오차/잔차 계산 방법\n"
   ]
  },
  {
   "cell_type": "markdown",
   "metadata": {},
   "source": [
    "> -   개념 :\n",
    ">     -   시그모이드 함수를 사용해 이진분류를 수행하는 알고리즘\n",
    "> -   조건 :\n",
    ">     -   출력(Target)이 범주형 데이터\n",
    "> -   동작원리 :\n",
    ">     -   시그모이드 함수를 통해 선형 방정식의 출력을 0과 1 사이의 값으로 변환하여 확률적으로 더 가까운 분류로 예츨\n",
    "> -   선형식 :\n",
    ">     -   z = x1 _ w1 + x2 _ w2 + ... + xn \\* wn + b (w: 가중치, b: 바이어스)\n",
    ">     -   P(X) = exp(z)/(1+exp(z)) (P(X) : 출력 확률, exp(z) : 지수 함수)\n",
    "> -   오차/잔차 계산 방법 :\n",
    ">     -   binary_cross_entropy 함수 사용\n"
   ]
  },
  {
   "cell_type": "markdown",
   "metadata": {},
   "source": [
    "[5] Fashion MNIST 데이터셋에서 10개 카테고리 중 하나를 선택해서 2진 분류로 구현해 주세요.\n",
    "\n",
    "-   데이터셋 : scikit-learn의 datasets 사용\n",
    "    -   from sklearn.datasets import fetch_openml\n",
    "    -   db_name = 'Fashion-MNIST'\n",
    "    -   fashion_data = fetch_openml(name=db_name, parser='auto')\n"
   ]
  },
  {
   "cell_type": "code",
   "execution_count": 1,
   "metadata": {},
   "outputs": [],
   "source": [
    "import numpy as np\n",
    "import torch\n",
    "import torch.nn as nn\n",
    "import torch.nn.functional as F\n",
    "import torch.optim as optim\n",
    "from sklearn.datasets import fetch_openml\n"
   ]
  },
  {
   "cell_type": "code",
   "execution_count": 2,
   "metadata": {},
   "outputs": [],
   "source": [
    "db_name = \"Fashion-MNIST\"\n",
    "fashion_data = fetch_openml(name=db_name, parser=\"auto\", as_frame=False)\n"
   ]
  },
  {
   "cell_type": "code",
   "execution_count": 3,
   "metadata": {},
   "outputs": [
    {
     "data": {
      "text/plain": [
       "((70000, 784), dtype('int64'), (70000,), dtype('O'))"
      ]
     },
     "execution_count": 3,
     "metadata": {},
     "output_type": "execute_result"
    }
   ],
   "source": [
    "X, y = fashion_data.data, fashion_data.target\n",
    "X.shape, X.dtype, y.shape, y.dtype\n"
   ]
  },
  {
   "cell_type": "code",
   "execution_count": 4,
   "metadata": {},
   "outputs": [],
   "source": [
    "y = y.astype(np.uint8)\n"
   ]
  },
  {
   "cell_type": "code",
   "execution_count": 5,
   "metadata": {},
   "outputs": [
    {
     "data": {
      "text/plain": [
       "(torch.Size([60000, 784]),\n",
       " torch.float32,\n",
       " torch.Size([60000, 1]),\n",
       " torch.float32,\n",
       " torch.Size([10000, 784]),\n",
       " torch.float32,\n",
       " torch.Size([10000, 1]),\n",
       " torch.float32)"
      ]
     },
     "execution_count": 5,
     "metadata": {},
     "output_type": "execute_result"
    }
   ],
   "source": [
    "X_train = torch.FloatTensor(X[:60000])\n",
    "y_train = (torch.ByteTensor(y[:60000]) == 5).float().unsqueeze(1)\n",
    "X_test = torch.FloatTensor(X[60000:])\n",
    "y_test = (torch.ByteTensor(y[60000:]) == 5).float().unsqueeze(1)\n",
    "\n",
    "X_train.shape, X_train.dtype, y_train.shape, y_train.dtype, X_test.shape, X_test.dtype, y_test.shape, y_test.dtype\n"
   ]
  },
  {
   "cell_type": "markdown",
   "metadata": {},
   "source": []
  },
  {
   "cell_type": "code",
   "execution_count": 6,
   "metadata": {},
   "outputs": [],
   "source": [
    "scaled_X_train = X_train / 255.0\n",
    "scaled_X_test = X_test / 255.0\n"
   ]
  },
  {
   "cell_type": "code",
   "execution_count": 7,
   "metadata": {},
   "outputs": [],
   "source": [
    "model = nn.Sequential(nn.Linear(784, 1), nn.Sigmoid())\n",
    "optimizer = optim.SGD(model.parameters(), lr=0.1)\n"
   ]
  },
  {
   "cell_type": "code",
   "execution_count": 8,
   "metadata": {},
   "outputs": [
    {
     "name": "stdout",
     "output_type": "stream",
     "text": [
      "Epoch :    0/10000 Cost : 0.646285 Accuracy : 0.733250\n",
      "Epoch :  100/10000 Cost : 0.136824 Accuracy : 0.940550\n",
      "Epoch :  200/10000 Cost : 0.115803 Accuracy : 0.955217\n",
      "Epoch :  300/10000 Cost : 0.103817 Accuracy : 0.961783\n",
      "Epoch :  400/10000 Cost : 0.095751 Accuracy : 0.965633\n",
      "Epoch :  500/10000 Cost : 0.089842 Accuracy : 0.968733\n",
      "Epoch :  600/10000 Cost : 0.085280 Accuracy : 0.971050\n",
      "Epoch :  700/10000 Cost : 0.081628 Accuracy : 0.972783\n",
      "Epoch :  800/10000 Cost : 0.078626 Accuracy : 0.974033\n",
      "Epoch :  900/10000 Cost : 0.076105 Accuracy : 0.975300\n",
      "Epoch : 1000/10000 Cost : 0.073952 Accuracy : 0.976117\n",
      "Epoch : 1100/10000 Cost : 0.072087 Accuracy : 0.976783\n",
      "Epoch : 1200/10000 Cost : 0.070454 Accuracy : 0.977300\n",
      "Epoch : 1300/10000 Cost : 0.069008 Accuracy : 0.977717\n",
      "Epoch : 1400/10000 Cost : 0.067718 Accuracy : 0.978200\n",
      "Epoch : 1500/10000 Cost : 0.066558 Accuracy : 0.978633\n",
      "Epoch : 1600/10000 Cost : 0.065507 Accuracy : 0.978867\n",
      "Epoch : 1700/10000 Cost : 0.064550 Accuracy : 0.979200\n",
      "Epoch : 1800/10000 Cost : 0.063674 Accuracy : 0.979483\n",
      "Epoch : 1900/10000 Cost : 0.062868 Accuracy : 0.979783\n",
      "Epoch : 2000/10000 Cost : 0.062124 Accuracy : 0.980083\n",
      "Epoch : 2100/10000 Cost : 0.061434 Accuracy : 0.980433\n",
      "Epoch : 2200/10000 Cost : 0.060792 Accuracy : 0.980517\n",
      "Epoch : 2300/10000 Cost : 0.060193 Accuracy : 0.980583\n",
      "Epoch : 2400/10000 Cost : 0.059632 Accuracy : 0.980733\n",
      "Epoch : 2500/10000 Cost : 0.059106 Accuracy : 0.980950\n",
      "Epoch : 2600/10000 Cost : 0.058610 Accuracy : 0.981200\n",
      "Epoch : 2700/10000 Cost : 0.058143 Accuracy : 0.981217\n",
      "Epoch : 2800/10000 Cost : 0.057701 Accuracy : 0.981367\n",
      "Epoch : 2900/10000 Cost : 0.057283 Accuracy : 0.981483\n",
      "Epoch : 3000/10000 Cost : 0.056886 Accuracy : 0.981633\n",
      "Epoch : 3100/10000 Cost : 0.056509 Accuracy : 0.981817\n",
      "Epoch : 3200/10000 Cost : 0.056150 Accuracy : 0.981900\n",
      "Epoch : 3300/10000 Cost : 0.055808 Accuracy : 0.981983\n",
      "Epoch : 3400/10000 Cost : 0.055481 Accuracy : 0.982017\n",
      "Epoch : 3500/10000 Cost : 0.055168 Accuracy : 0.982150\n",
      "Epoch : 3600/10000 Cost : 0.054869 Accuracy : 0.982283\n",
      "Epoch : 3700/10000 Cost : 0.054582 Accuracy : 0.982383\n",
      "Epoch : 3800/10000 Cost : 0.054307 Accuracy : 0.982500\n",
      "Epoch : 3900/10000 Cost : 0.054043 Accuracy : 0.982517\n",
      "Epoch : 4000/10000 Cost : 0.053789 Accuracy : 0.982550\n",
      "Epoch : 4100/10000 Cost : 0.053544 Accuracy : 0.982583\n",
      "Epoch : 4200/10000 Cost : 0.053309 Accuracy : 0.982650\n",
      "Epoch : 4300/10000 Cost : 0.053081 Accuracy : 0.982717\n",
      "Epoch : 4400/10000 Cost : 0.052862 Accuracy : 0.982783\n",
      "Epoch : 4500/10000 Cost : 0.052650 Accuracy : 0.982833\n",
      "Epoch : 4600/10000 Cost : 0.052446 Accuracy : 0.982800\n",
      "Epoch : 4700/10000 Cost : 0.052247 Accuracy : 0.982867\n",
      "Epoch : 4800/10000 Cost : 0.052056 Accuracy : 0.982917\n",
      "Epoch : 4900/10000 Cost : 0.051870 Accuracy : 0.982933\n",
      "Epoch : 5000/10000 Cost : 0.051690 Accuracy : 0.982983\n",
      "Epoch : 5100/10000 Cost : 0.051516 Accuracy : 0.983067\n",
      "Epoch : 5200/10000 Cost : 0.051346 Accuracy : 0.983133\n",
      "Epoch : 5300/10000 Cost : 0.051182 Accuracy : 0.983183\n",
      "Epoch : 5400/10000 Cost : 0.051022 Accuracy : 0.983233\n",
      "Epoch : 5500/10000 Cost : 0.050866 Accuracy : 0.983283\n",
      "Epoch : 5600/10000 Cost : 0.050715 Accuracy : 0.983333\n",
      "Epoch : 5700/10000 Cost : 0.050568 Accuracy : 0.983433\n",
      "Epoch : 5800/10000 Cost : 0.050425 Accuracy : 0.983433\n",
      "Epoch : 5900/10000 Cost : 0.050285 Accuracy : 0.983400\n",
      "Epoch : 6000/10000 Cost : 0.050150 Accuracy : 0.983500\n",
      "Epoch : 6100/10000 Cost : 0.050017 Accuracy : 0.983517\n",
      "Epoch : 6200/10000 Cost : 0.049888 Accuracy : 0.983567\n",
      "Epoch : 6300/10000 Cost : 0.049762 Accuracy : 0.983633\n",
      "Epoch : 6400/10000 Cost : 0.049639 Accuracy : 0.983650\n",
      "Epoch : 6500/10000 Cost : 0.049519 Accuracy : 0.983650\n",
      "Epoch : 6600/10000 Cost : 0.049401 Accuracy : 0.983733\n",
      "Epoch : 6700/10000 Cost : 0.049287 Accuracy : 0.983783\n",
      "Epoch : 6800/10000 Cost : 0.049174 Accuracy : 0.983833\n",
      "Epoch : 6900/10000 Cost : 0.049065 Accuracy : 0.983867\n",
      "Epoch : 7000/10000 Cost : 0.048958 Accuracy : 0.983883\n",
      "Epoch : 7100/10000 Cost : 0.048853 Accuracy : 0.983950\n",
      "Epoch : 7200/10000 Cost : 0.048750 Accuracy : 0.984000\n",
      "Epoch : 7300/10000 Cost : 0.048649 Accuracy : 0.984000\n",
      "Epoch : 7400/10000 Cost : 0.048551 Accuracy : 0.984017\n",
      "Epoch : 7500/10000 Cost : 0.048454 Accuracy : 0.984017\n",
      "Epoch : 7600/10000 Cost : 0.048360 Accuracy : 0.984050\n",
      "Epoch : 7700/10000 Cost : 0.048267 Accuracy : 0.984050\n",
      "Epoch : 7800/10000 Cost : 0.048176 Accuracy : 0.984067\n",
      "Epoch : 7900/10000 Cost : 0.048087 Accuracy : 0.984100\n",
      "Epoch : 8000/10000 Cost : 0.048000 Accuracy : 0.984117\n",
      "Epoch : 8100/10000 Cost : 0.047914 Accuracy : 0.984133\n",
      "Epoch : 8200/10000 Cost : 0.047830 Accuracy : 0.984167\n",
      "Epoch : 8300/10000 Cost : 0.047747 Accuracy : 0.984183\n",
      "Epoch : 8400/10000 Cost : 0.047666 Accuracy : 0.984200\n",
      "Epoch : 8500/10000 Cost : 0.047586 Accuracy : 0.984183\n",
      "Epoch : 8600/10000 Cost : 0.047508 Accuracy : 0.984183\n",
      "Epoch : 8700/10000 Cost : 0.047431 Accuracy : 0.984250\n",
      "Epoch : 8800/10000 Cost : 0.047356 Accuracy : 0.984283\n",
      "Epoch : 8900/10000 Cost : 0.047281 Accuracy : 0.984350\n",
      "Epoch : 9000/10000 Cost : 0.047208 Accuracy : 0.984417\n",
      "Epoch : 9100/10000 Cost : 0.047136 Accuracy : 0.984433\n",
      "Epoch : 9200/10000 Cost : 0.047066 Accuracy : 0.984433\n",
      "Epoch : 9300/10000 Cost : 0.046996 Accuracy : 0.984467\n",
      "Epoch : 9400/10000 Cost : 0.046928 Accuracy : 0.984500\n",
      "Epoch : 9500/10000 Cost : 0.046861 Accuracy : 0.984517\n",
      "Epoch : 9600/10000 Cost : 0.046794 Accuracy : 0.984533\n",
      "Epoch : 9700/10000 Cost : 0.046729 Accuracy : 0.984583\n",
      "Epoch : 9800/10000 Cost : 0.046665 Accuracy : 0.984600\n",
      "Epoch : 9900/10000 Cost : 0.046602 Accuracy : 0.984600\n",
      "Epoch : 10000/10000 Cost : 0.046540 Accuracy : 0.984633\n"
     ]
    }
   ],
   "source": [
    "nb_epochs = 10000\n",
    "for epoch in range(nb_epochs + 1):\n",
    "    hypothesis = model(scaled_X_train)\n",
    "\n",
    "    cost = F.binary_cross_entropy(hypothesis, y_train)\n",
    "\n",
    "    optimizer.zero_grad()\n",
    "    cost.backward()\n",
    "    optimizer.step()\n",
    "\n",
    "    if epoch % 100 == 0:\n",
    "        prediction = hypothesis > torch.FloatTensor([0.5])\n",
    "        correct_prediction = prediction.float() == y_train\n",
    "        accuracy = correct_prediction.sum().item() / len(correct_prediction)\n",
    "\n",
    "        print(\n",
    "            f\"Epoch : {epoch:4d}/{nb_epochs} Cost : {cost.item():.6f} Accuracy : {accuracy:.6f}\"\n",
    "        )\n"
   ]
  },
  {
   "cell_type": "code",
   "execution_count": 9,
   "metadata": {},
   "outputs": [
    {
     "data": {
      "text/plain": [
       "tensor([[0.],\n",
       "        [0.],\n",
       "        [0.],\n",
       "        ...,\n",
       "        [0.],\n",
       "        [0.],\n",
       "        [1.]])"
      ]
     },
     "execution_count": 9,
     "metadata": {},
     "output_type": "execute_result"
    }
   ],
   "source": [
    "pre_y = (model(scaled_X_test) > torch.FloatTensor([0.5])).float()\n",
    "pre_y\n"
   ]
  },
  {
   "cell_type": "code",
   "execution_count": 10,
   "metadata": {},
   "outputs": [
    {
     "data": {
      "text/plain": [
       "0.9832"
      ]
     },
     "execution_count": 10,
     "metadata": {},
     "output_type": "execute_result"
    }
   ],
   "source": [
    "accuracy_test = (pre_y == y_test).sum().item() / len(y_test)\n",
    "accuracy_test\n"
   ]
  },
  {
   "cell_type": "code",
   "execution_count": null,
   "metadata": {},
   "outputs": [],
   "source": []
  }
 ],
 "metadata": {
  "kernelspec": {
   "display_name": "TORCH_PY38",
   "language": "python",
   "name": "python3"
  },
  "language_info": {
   "codemirror_mode": {
    "name": "ipython",
    "version": 3
   },
   "file_extension": ".py",
   "mimetype": "text/x-python",
   "name": "python",
   "nbconvert_exporter": "python",
   "pygments_lexer": "ipython3",
   "version": "3.8.18"
  }
 },
 "nbformat": 4,
 "nbformat_minor": 2
}
