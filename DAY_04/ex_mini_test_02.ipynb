{
 "cells": [
  {
   "cell_type": "markdown",
   "metadata": {},
   "source": [
    "## [이미지 데이터 - 이진분류 모델]\n",
    "\n",
    "-   데이터셋 : scikit-learn Fashion MNIST\n",
    "-   데이터수 : 학습용 60000, 테스트용 10000\n",
    "-   피쳐갯수 :\n",
    "-   타겟갯수:\n"
   ]
  },
  {
   "cell_type": "code",
   "execution_count": 1,
   "metadata": {},
   "outputs": [],
   "source": [
    "# 모듈 로딩\n",
    "from sklearn.datasets import fetch_openml\n",
    "import pandas as pd\n",
    "import numpy as np\n",
    "\n",
    "import torch\n",
    "import torch.nn as nn  # LinearRegression기능의 클래스 Linear\n",
    "import torch.nn.functional as F  # 손실함수\n",
    "import torch.optim as optim  # 경사하강법 기반의 최적화 관련 모듈\n"
   ]
  },
  {
   "cell_type": "code",
   "execution_count": 2,
   "metadata": {},
   "outputs": [],
   "source": [
    "### ===> 데이터 준비\n",
    "fashion_db = \"fashion-mnist\"\n",
    "\n",
    "fashion_data = fetch_openml(name=fashion_db, parser=\"auto\")  # , as_frame=False)\n"
   ]
  },
  {
   "cell_type": "code",
   "execution_count": 3,
   "metadata": {},
   "outputs": [],
   "source": [
    "### ===> 데이터 확인\n",
    "feature = fashion_data.data\n",
    "target = fashion_data.target\n"
   ]
  },
  {
   "cell_type": "code",
   "execution_count": 4,
   "metadata": {},
   "outputs": [
    {
     "name": "stdout",
     "output_type": "stream",
     "text": [
      "FEATURE => (70000, 784), 2D\n",
      "TARGET => (70000,), 1D\n"
     ]
    }
   ],
   "source": [
    "# 피쳐와 타겟 갯수 확인\n",
    "print(f\"FEATURE => {feature.shape}, {feature.ndim}D\")\n",
    "print(f\"TARGET => {target.shape}, {target.ndim}D\")\n"
   ]
  },
  {
   "cell_type": "code",
   "execution_count": 5,
   "metadata": {},
   "outputs": [
    {
     "name": "stdout",
     "output_type": "stream",
     "text": [
      "FEATURE    => ['pixel1', 'pixel2', 'pixel3', 'pixel4', 'pixel5', 'pixel6', 'pixel7', 'pixel8', 'pixel9', 'pixel10', 'pixel11', 'pixel12', 'pixel13', 'pixel14', 'pixel15', 'pixel16', 'pixel17', 'pixel18', 'pixel19', 'pixel20', 'pixel21', 'pixel22', 'pixel23', 'pixel24', 'pixel25', 'pixel26', 'pixel27', 'pixel28', 'pixel29', 'pixel30', 'pixel31', 'pixel32', 'pixel33', 'pixel34', 'pixel35', 'pixel36', 'pixel37', 'pixel38', 'pixel39', 'pixel40', 'pixel41', 'pixel42', 'pixel43', 'pixel44', 'pixel45', 'pixel46', 'pixel47', 'pixel48', 'pixel49', 'pixel50', 'pixel51', 'pixel52', 'pixel53', 'pixel54', 'pixel55', 'pixel56', 'pixel57', 'pixel58', 'pixel59', 'pixel60', 'pixel61', 'pixel62', 'pixel63', 'pixel64', 'pixel65', 'pixel66', 'pixel67', 'pixel68', 'pixel69', 'pixel70', 'pixel71', 'pixel72', 'pixel73', 'pixel74', 'pixel75', 'pixel76', 'pixel77', 'pixel78', 'pixel79', 'pixel80', 'pixel81', 'pixel82', 'pixel83', 'pixel84', 'pixel85', 'pixel86', 'pixel87', 'pixel88', 'pixel89', 'pixel90', 'pixel91', 'pixel92', 'pixel93', 'pixel94', 'pixel95', 'pixel96', 'pixel97', 'pixel98', 'pixel99', 'pixel100', 'pixel101', 'pixel102', 'pixel103', 'pixel104', 'pixel105', 'pixel106', 'pixel107', 'pixel108', 'pixel109', 'pixel110', 'pixel111', 'pixel112', 'pixel113', 'pixel114', 'pixel115', 'pixel116', 'pixel117', 'pixel118', 'pixel119', 'pixel120', 'pixel121', 'pixel122', 'pixel123', 'pixel124', 'pixel125', 'pixel126', 'pixel127', 'pixel128', 'pixel129', 'pixel130', 'pixel131', 'pixel132', 'pixel133', 'pixel134', 'pixel135', 'pixel136', 'pixel137', 'pixel138', 'pixel139', 'pixel140', 'pixel141', 'pixel142', 'pixel143', 'pixel144', 'pixel145', 'pixel146', 'pixel147', 'pixel148', 'pixel149', 'pixel150', 'pixel151', 'pixel152', 'pixel153', 'pixel154', 'pixel155', 'pixel156', 'pixel157', 'pixel158', 'pixel159', 'pixel160', 'pixel161', 'pixel162', 'pixel163', 'pixel164', 'pixel165', 'pixel166', 'pixel167', 'pixel168', 'pixel169', 'pixel170', 'pixel171', 'pixel172', 'pixel173', 'pixel174', 'pixel175', 'pixel176', 'pixel177', 'pixel178', 'pixel179', 'pixel180', 'pixel181', 'pixel182', 'pixel183', 'pixel184', 'pixel185', 'pixel186', 'pixel187', 'pixel188', 'pixel189', 'pixel190', 'pixel191', 'pixel192', 'pixel193', 'pixel194', 'pixel195', 'pixel196', 'pixel197', 'pixel198', 'pixel199', 'pixel200', 'pixel201', 'pixel202', 'pixel203', 'pixel204', 'pixel205', 'pixel206', 'pixel207', 'pixel208', 'pixel209', 'pixel210', 'pixel211', 'pixel212', 'pixel213', 'pixel214', 'pixel215', 'pixel216', 'pixel217', 'pixel218', 'pixel219', 'pixel220', 'pixel221', 'pixel222', 'pixel223', 'pixel224', 'pixel225', 'pixel226', 'pixel227', 'pixel228', 'pixel229', 'pixel230', 'pixel231', 'pixel232', 'pixel233', 'pixel234', 'pixel235', 'pixel236', 'pixel237', 'pixel238', 'pixel239', 'pixel240', 'pixel241', 'pixel242', 'pixel243', 'pixel244', 'pixel245', 'pixel246', 'pixel247', 'pixel248', 'pixel249', 'pixel250', 'pixel251', 'pixel252', 'pixel253', 'pixel254', 'pixel255', 'pixel256', 'pixel257', 'pixel258', 'pixel259', 'pixel260', 'pixel261', 'pixel262', 'pixel263', 'pixel264', 'pixel265', 'pixel266', 'pixel267', 'pixel268', 'pixel269', 'pixel270', 'pixel271', 'pixel272', 'pixel273', 'pixel274', 'pixel275', 'pixel276', 'pixel277', 'pixel278', 'pixel279', 'pixel280', 'pixel281', 'pixel282', 'pixel283', 'pixel284', 'pixel285', 'pixel286', 'pixel287', 'pixel288', 'pixel289', 'pixel290', 'pixel291', 'pixel292', 'pixel293', 'pixel294', 'pixel295', 'pixel296', 'pixel297', 'pixel298', 'pixel299', 'pixel300', 'pixel301', 'pixel302', 'pixel303', 'pixel304', 'pixel305', 'pixel306', 'pixel307', 'pixel308', 'pixel309', 'pixel310', 'pixel311', 'pixel312', 'pixel313', 'pixel314', 'pixel315', 'pixel316', 'pixel317', 'pixel318', 'pixel319', 'pixel320', 'pixel321', 'pixel322', 'pixel323', 'pixel324', 'pixel325', 'pixel326', 'pixel327', 'pixel328', 'pixel329', 'pixel330', 'pixel331', 'pixel332', 'pixel333', 'pixel334', 'pixel335', 'pixel336', 'pixel337', 'pixel338', 'pixel339', 'pixel340', 'pixel341', 'pixel342', 'pixel343', 'pixel344', 'pixel345', 'pixel346', 'pixel347', 'pixel348', 'pixel349', 'pixel350', 'pixel351', 'pixel352', 'pixel353', 'pixel354', 'pixel355', 'pixel356', 'pixel357', 'pixel358', 'pixel359', 'pixel360', 'pixel361', 'pixel362', 'pixel363', 'pixel364', 'pixel365', 'pixel366', 'pixel367', 'pixel368', 'pixel369', 'pixel370', 'pixel371', 'pixel372', 'pixel373', 'pixel374', 'pixel375', 'pixel376', 'pixel377', 'pixel378', 'pixel379', 'pixel380', 'pixel381', 'pixel382', 'pixel383', 'pixel384', 'pixel385', 'pixel386', 'pixel387', 'pixel388', 'pixel389', 'pixel390', 'pixel391', 'pixel392', 'pixel393', 'pixel394', 'pixel395', 'pixel396', 'pixel397', 'pixel398', 'pixel399', 'pixel400', 'pixel401', 'pixel402', 'pixel403', 'pixel404', 'pixel405', 'pixel406', 'pixel407', 'pixel408', 'pixel409', 'pixel410', 'pixel411', 'pixel412', 'pixel413', 'pixel414', 'pixel415', 'pixel416', 'pixel417', 'pixel418', 'pixel419', 'pixel420', 'pixel421', 'pixel422', 'pixel423', 'pixel424', 'pixel425', 'pixel426', 'pixel427', 'pixel428', 'pixel429', 'pixel430', 'pixel431', 'pixel432', 'pixel433', 'pixel434', 'pixel435', 'pixel436', 'pixel437', 'pixel438', 'pixel439', 'pixel440', 'pixel441', 'pixel442', 'pixel443', 'pixel444', 'pixel445', 'pixel446', 'pixel447', 'pixel448', 'pixel449', 'pixel450', 'pixel451', 'pixel452', 'pixel453', 'pixel454', 'pixel455', 'pixel456', 'pixel457', 'pixel458', 'pixel459', 'pixel460', 'pixel461', 'pixel462', 'pixel463', 'pixel464', 'pixel465', 'pixel466', 'pixel467', 'pixel468', 'pixel469', 'pixel470', 'pixel471', 'pixel472', 'pixel473', 'pixel474', 'pixel475', 'pixel476', 'pixel477', 'pixel478', 'pixel479', 'pixel480', 'pixel481', 'pixel482', 'pixel483', 'pixel484', 'pixel485', 'pixel486', 'pixel487', 'pixel488', 'pixel489', 'pixel490', 'pixel491', 'pixel492', 'pixel493', 'pixel494', 'pixel495', 'pixel496', 'pixel497', 'pixel498', 'pixel499', 'pixel500', 'pixel501', 'pixel502', 'pixel503', 'pixel504', 'pixel505', 'pixel506', 'pixel507', 'pixel508', 'pixel509', 'pixel510', 'pixel511', 'pixel512', 'pixel513', 'pixel514', 'pixel515', 'pixel516', 'pixel517', 'pixel518', 'pixel519', 'pixel520', 'pixel521', 'pixel522', 'pixel523', 'pixel524', 'pixel525', 'pixel526', 'pixel527', 'pixel528', 'pixel529', 'pixel530', 'pixel531', 'pixel532', 'pixel533', 'pixel534', 'pixel535', 'pixel536', 'pixel537', 'pixel538', 'pixel539', 'pixel540', 'pixel541', 'pixel542', 'pixel543', 'pixel544', 'pixel545', 'pixel546', 'pixel547', 'pixel548', 'pixel549', 'pixel550', 'pixel551', 'pixel552', 'pixel553', 'pixel554', 'pixel555', 'pixel556', 'pixel557', 'pixel558', 'pixel559', 'pixel560', 'pixel561', 'pixel562', 'pixel563', 'pixel564', 'pixel565', 'pixel566', 'pixel567', 'pixel568', 'pixel569', 'pixel570', 'pixel571', 'pixel572', 'pixel573', 'pixel574', 'pixel575', 'pixel576', 'pixel577', 'pixel578', 'pixel579', 'pixel580', 'pixel581', 'pixel582', 'pixel583', 'pixel584', 'pixel585', 'pixel586', 'pixel587', 'pixel588', 'pixel589', 'pixel590', 'pixel591', 'pixel592', 'pixel593', 'pixel594', 'pixel595', 'pixel596', 'pixel597', 'pixel598', 'pixel599', 'pixel600', 'pixel601', 'pixel602', 'pixel603', 'pixel604', 'pixel605', 'pixel606', 'pixel607', 'pixel608', 'pixel609', 'pixel610', 'pixel611', 'pixel612', 'pixel613', 'pixel614', 'pixel615', 'pixel616', 'pixel617', 'pixel618', 'pixel619', 'pixel620', 'pixel621', 'pixel622', 'pixel623', 'pixel624', 'pixel625', 'pixel626', 'pixel627', 'pixel628', 'pixel629', 'pixel630', 'pixel631', 'pixel632', 'pixel633', 'pixel634', 'pixel635', 'pixel636', 'pixel637', 'pixel638', 'pixel639', 'pixel640', 'pixel641', 'pixel642', 'pixel643', 'pixel644', 'pixel645', 'pixel646', 'pixel647', 'pixel648', 'pixel649', 'pixel650', 'pixel651', 'pixel652', 'pixel653', 'pixel654', 'pixel655', 'pixel656', 'pixel657', 'pixel658', 'pixel659', 'pixel660', 'pixel661', 'pixel662', 'pixel663', 'pixel664', 'pixel665', 'pixel666', 'pixel667', 'pixel668', 'pixel669', 'pixel670', 'pixel671', 'pixel672', 'pixel673', 'pixel674', 'pixel675', 'pixel676', 'pixel677', 'pixel678', 'pixel679', 'pixel680', 'pixel681', 'pixel682', 'pixel683', 'pixel684', 'pixel685', 'pixel686', 'pixel687', 'pixel688', 'pixel689', 'pixel690', 'pixel691', 'pixel692', 'pixel693', 'pixel694', 'pixel695', 'pixel696', 'pixel697', 'pixel698', 'pixel699', 'pixel700', 'pixel701', 'pixel702', 'pixel703', 'pixel704', 'pixel705', 'pixel706', 'pixel707', 'pixel708', 'pixel709', 'pixel710', 'pixel711', 'pixel712', 'pixel713', 'pixel714', 'pixel715', 'pixel716', 'pixel717', 'pixel718', 'pixel719', 'pixel720', 'pixel721', 'pixel722', 'pixel723', 'pixel724', 'pixel725', 'pixel726', 'pixel727', 'pixel728', 'pixel729', 'pixel730', 'pixel731', 'pixel732', 'pixel733', 'pixel734', 'pixel735', 'pixel736', 'pixel737', 'pixel738', 'pixel739', 'pixel740', 'pixel741', 'pixel742', 'pixel743', 'pixel744', 'pixel745', 'pixel746', 'pixel747', 'pixel748', 'pixel749', 'pixel750', 'pixel751', 'pixel752', 'pixel753', 'pixel754', 'pixel755', 'pixel756', 'pixel757', 'pixel758', 'pixel759', 'pixel760', 'pixel761', 'pixel762', 'pixel763', 'pixel764', 'pixel765', 'pixel766', 'pixel767', 'pixel768', 'pixel769', 'pixel770', 'pixel771', 'pixel772', 'pixel773', 'pixel774', 'pixel775', 'pixel776', 'pixel777', 'pixel778', 'pixel779', 'pixel780', 'pixel781', 'pixel782', 'pixel783', 'pixel784']\n",
      "TARGET     => ['class']\n",
      "CATEGORIES => None\n",
      "CATEGORIES => ['9', '0', '3', '2', '7', '5', '1', '6', '4', '8']\n",
      "Categories (10, object): ['0', '1', '2', '3', ..., '6', '7', '8', '9']\n"
     ]
    }
   ],
   "source": [
    "# 분류 확인\n",
    "print(f'FEATURE    => {fashion_data[\"feature_names\"]}')\n",
    "print(f'TARGET     => {fashion_data[\"target_names\"]}')\n",
    "print(f'CATEGORIES => {fashion_data[\"categories\"]}')\n",
    "print(f\"CATEGORIES => {target.unique()}\")\n"
   ]
  },
  {
   "cell_type": "markdown",
   "metadata": {},
   "source": [
    "[2] 데이터 가공 및 전처리 <hr>\n",
    "\n",
    "-   결측치/중복/이상치 => 없음\n",
    "-   다중분류 ==> 2진분류 변환 : target 변환\n",
    "-   표준화 ==> 이미지 동일 크기 및 색상채널 : 동일 크기(28\\*28)와 채널(흑백 1)\n",
    "-   정규화 ==> 피쳐 정규화/타겟 정규화\n"
   ]
  },
  {
   "cell_type": "code",
   "execution_count": 6,
   "metadata": {},
   "outputs": [
    {
     "data": {
      "text/plain": [
       "array([False,  True])"
      ]
     },
     "execution_count": 6,
     "metadata": {},
     "output_type": "execute_result"
    }
   ],
   "source": [
    "### ===> [2-1] 다중분류 ==> 2진분류 변환 : target 변환\n",
    "target = target == \"0\"\n",
    "target.unique()\n"
   ]
  },
  {
   "cell_type": "code",
   "execution_count": 7,
   "metadata": {},
   "outputs": [
    {
     "data": {
      "text/html": [
       "<div>\n",
       "<style scoped>\n",
       "    .dataframe tbody tr th:only-of-type {\n",
       "        vertical-align: middle;\n",
       "    }\n",
       "\n",
       "    .dataframe tbody tr th {\n",
       "        vertical-align: top;\n",
       "    }\n",
       "\n",
       "    .dataframe thead th {\n",
       "        text-align: right;\n",
       "    }\n",
       "</style>\n",
       "<table border=\"1\" class=\"dataframe\">\n",
       "  <thead>\n",
       "    <tr style=\"text-align: right;\">\n",
       "      <th></th>\n",
       "      <th>pixel1</th>\n",
       "      <th>pixel2</th>\n",
       "      <th>pixel3</th>\n",
       "      <th>pixel4</th>\n",
       "      <th>pixel5</th>\n",
       "      <th>pixel6</th>\n",
       "      <th>pixel7</th>\n",
       "      <th>pixel8</th>\n",
       "      <th>pixel9</th>\n",
       "      <th>pixel10</th>\n",
       "      <th>...</th>\n",
       "      <th>pixel775</th>\n",
       "      <th>pixel776</th>\n",
       "      <th>pixel777</th>\n",
       "      <th>pixel778</th>\n",
       "      <th>pixel779</th>\n",
       "      <th>pixel780</th>\n",
       "      <th>pixel781</th>\n",
       "      <th>pixel782</th>\n",
       "      <th>pixel783</th>\n",
       "      <th>pixel784</th>\n",
       "    </tr>\n",
       "  </thead>\n",
       "  <tbody>\n",
       "    <tr>\n",
       "      <th>0</th>\n",
       "      <td>0.0</td>\n",
       "      <td>0.0</td>\n",
       "      <td>0.0</td>\n",
       "      <td>0.0</td>\n",
       "      <td>0.0</td>\n",
       "      <td>0.000000</td>\n",
       "      <td>0.0</td>\n",
       "      <td>0.0</td>\n",
       "      <td>0.0</td>\n",
       "      <td>0.0</td>\n",
       "      <td>...</td>\n",
       "      <td>0.000000</td>\n",
       "      <td>0.000000</td>\n",
       "      <td>0.000000</td>\n",
       "      <td>0.000000</td>\n",
       "      <td>0.0</td>\n",
       "      <td>0.0</td>\n",
       "      <td>0.0</td>\n",
       "      <td>0.0</td>\n",
       "      <td>0.0</td>\n",
       "      <td>0.0</td>\n",
       "    </tr>\n",
       "    <tr>\n",
       "      <th>1</th>\n",
       "      <td>0.0</td>\n",
       "      <td>0.0</td>\n",
       "      <td>0.0</td>\n",
       "      <td>0.0</td>\n",
       "      <td>0.0</td>\n",
       "      <td>0.003922</td>\n",
       "      <td>0.0</td>\n",
       "      <td>0.0</td>\n",
       "      <td>0.0</td>\n",
       "      <td>0.0</td>\n",
       "      <td>...</td>\n",
       "      <td>0.466667</td>\n",
       "      <td>0.447059</td>\n",
       "      <td>0.509804</td>\n",
       "      <td>0.298039</td>\n",
       "      <td>0.0</td>\n",
       "      <td>0.0</td>\n",
       "      <td>0.0</td>\n",
       "      <td>0.0</td>\n",
       "      <td>0.0</td>\n",
       "      <td>0.0</td>\n",
       "    </tr>\n",
       "  </tbody>\n",
       "</table>\n",
       "<p>2 rows × 784 columns</p>\n",
       "</div>"
      ],
      "text/plain": [
       "   pixel1  pixel2  pixel3  pixel4  pixel5    pixel6  pixel7  pixel8  pixel9  \\\n",
       "0     0.0     0.0     0.0     0.0     0.0  0.000000     0.0     0.0     0.0   \n",
       "1     0.0     0.0     0.0     0.0     0.0  0.003922     0.0     0.0     0.0   \n",
       "\n",
       "   pixel10  ...  pixel775  pixel776  pixel777  pixel778  pixel779  pixel780  \\\n",
       "0      0.0  ...  0.000000  0.000000  0.000000  0.000000       0.0       0.0   \n",
       "1      0.0  ...  0.466667  0.447059  0.509804  0.298039       0.0       0.0   \n",
       "\n",
       "   pixel781  pixel782  pixel783  pixel784  \n",
       "0       0.0       0.0       0.0       0.0  \n",
       "1       0.0       0.0       0.0       0.0  \n",
       "\n",
       "[2 rows x 784 columns]"
      ]
     },
     "execution_count": 7,
     "metadata": {},
     "output_type": "execute_result"
    }
   ],
   "source": [
    "### ===> [2-2] 정규화 ==> 피쳐 : 784개 색상값 즉, 0 ~ 255 범위 값\n",
    "norm_feature = feature / 255.0\n",
    "norm_feature.head(2)\n"
   ]
  },
  {
   "cell_type": "code",
   "execution_count": 8,
   "metadata": {},
   "outputs": [
    {
     "data": {
      "text/html": [
       "<div>\n",
       "<style scoped>\n",
       "    .dataframe tbody tr th:only-of-type {\n",
       "        vertical-align: middle;\n",
       "    }\n",
       "\n",
       "    .dataframe tbody tr th {\n",
       "        vertical-align: top;\n",
       "    }\n",
       "\n",
       "    .dataframe thead th {\n",
       "        text-align: right;\n",
       "    }\n",
       "</style>\n",
       "<table border=\"1\" class=\"dataframe\">\n",
       "  <thead>\n",
       "    <tr style=\"text-align: right;\">\n",
       "      <th></th>\n",
       "      <th>False</th>\n",
       "      <th>True</th>\n",
       "    </tr>\n",
       "  </thead>\n",
       "  <tbody>\n",
       "    <tr>\n",
       "      <th>0</th>\n",
       "      <td>True</td>\n",
       "      <td>False</td>\n",
       "    </tr>\n",
       "    <tr>\n",
       "      <th>1</th>\n",
       "      <td>False</td>\n",
       "      <td>True</td>\n",
       "    </tr>\n",
       "    <tr>\n",
       "      <th>2</th>\n",
       "      <td>False</td>\n",
       "      <td>True</td>\n",
       "    </tr>\n",
       "    <tr>\n",
       "      <th>3</th>\n",
       "      <td>True</td>\n",
       "      <td>False</td>\n",
       "    </tr>\n",
       "    <tr>\n",
       "      <th>4</th>\n",
       "      <td>False</td>\n",
       "      <td>True</td>\n",
       "    </tr>\n",
       "    <tr>\n",
       "      <th>...</th>\n",
       "      <td>...</td>\n",
       "      <td>...</td>\n",
       "    </tr>\n",
       "    <tr>\n",
       "      <th>69995</th>\n",
       "      <td>True</td>\n",
       "      <td>False</td>\n",
       "    </tr>\n",
       "    <tr>\n",
       "      <th>69996</th>\n",
       "      <td>True</td>\n",
       "      <td>False</td>\n",
       "    </tr>\n",
       "    <tr>\n",
       "      <th>69997</th>\n",
       "      <td>True</td>\n",
       "      <td>False</td>\n",
       "    </tr>\n",
       "    <tr>\n",
       "      <th>69998</th>\n",
       "      <td>True</td>\n",
       "      <td>False</td>\n",
       "    </tr>\n",
       "    <tr>\n",
       "      <th>69999</th>\n",
       "      <td>True</td>\n",
       "      <td>False</td>\n",
       "    </tr>\n",
       "  </tbody>\n",
       "</table>\n",
       "<p>70000 rows × 2 columns</p>\n",
       "</div>"
      ],
      "text/plain": [
       "       False  True \n",
       "0       True  False\n",
       "1      False   True\n",
       "2      False   True\n",
       "3       True  False\n",
       "4      False   True\n",
       "...      ...    ...\n",
       "69995   True  False\n",
       "69996   True  False\n",
       "69997   True  False\n",
       "69998   True  False\n",
       "69999   True  False\n",
       "\n",
       "[70000 rows x 2 columns]"
      ]
     },
     "execution_count": 8,
     "metadata": {},
     "output_type": "execute_result"
    }
   ],
   "source": [
    "### ===> [2-2] 정규화 ==> 타겟 : One-Hot 인코딩으로 변환\n",
    "pd.get_dummies(target)\n"
   ]
  },
  {
   "cell_type": "code",
   "execution_count": 9,
   "metadata": {},
   "outputs": [
    {
     "name": "stdout",
     "output_type": "stream",
     "text": [
      "(70000, 1)\n"
     ]
    }
   ],
   "source": [
    "from sklearn.preprocessing import OneHotEncoder\n",
    "\n",
    "targetDF = target.to_frame()\n",
    "print(targetDF.shape)\n"
   ]
  },
  {
   "cell_type": "code",
   "execution_count": 10,
   "metadata": {},
   "outputs": [
    {
     "data": {
      "text/plain": [
       "[array([False,  True])]"
      ]
     },
     "execution_count": 10,
     "metadata": {},
     "output_type": "execute_result"
    }
   ],
   "source": [
    "# sparse_out=False : ndarray 타입으로 반환\n",
    "ohEncoder = OneHotEncoder(sparse_output=False)\n",
    "ohEncoder.fit(targetDF)\n",
    "ohEncoder.categories_\n"
   ]
  },
  {
   "cell_type": "code",
   "execution_count": 11,
   "metadata": {},
   "outputs": [
    {
     "data": {
      "text/plain": [
       "((70000, 2), 2)"
      ]
     },
     "execution_count": 11,
     "metadata": {},
     "output_type": "execute_result"
    }
   ],
   "source": [
    "norm_target = ohEncoder.transform(targetDF)\n",
    "norm_target.shape, norm_target.ndim\n"
   ]
  },
  {
   "cell_type": "markdown",
   "metadata": {},
   "source": [
    "[3] 학습 준비 <hr>\n",
    "\n",
    "-   텐서화\n",
    "-   데이터셋 준비 : 훈련용, 테스트용\n",
    "-   학습 방법 : 지도학습 - 이진분류 => Linear 클래스 + sigmoid 함수\n",
    "-   최적화방법 : 경사하강법 기반의 방법 => Adam, SGD, ...\n",
    "-   손실함수 : 이진분류 손실 계산 함수 => binary_cross_entropy\n"
   ]
  },
  {
   "cell_type": "code",
   "execution_count": 12,
   "metadata": {},
   "outputs": [],
   "source": [
    "### ===> 데이터셋 준비 : 60000개 훈련, 10000개 테스트\n",
    "limit = 60000\n",
    "\n",
    "train = norm_feature.iloc[:limit]\n",
    "test = norm_feature.iloc[limit:]\n",
    "\n",
    "train_y = norm_target[:limit]\n",
    "test_y = norm_target[limit:]\n"
   ]
  },
  {
   "cell_type": "code",
   "execution_count": 13,
   "metadata": {},
   "outputs": [
    {
     "name": "stdout",
     "output_type": "stream",
     "text": [
      "train (60000, 784), 2D, (60000, 2), 2D\n",
      "test (10000, 784), 2D, (10000, 2), 2D\n"
     ]
    }
   ],
   "source": [
    "print(f\"train {train.shape}, {train.ndim}D, {train_y.shape}, {train_y.ndim}D\")\n",
    "print(f\"test {test.shape}, {test.ndim}D, {test_y.shape}, {test_y.ndim}D\")\n"
   ]
  },
  {
   "cell_type": "code",
   "execution_count": 14,
   "metadata": {},
   "outputs": [],
   "source": [
    "### ===> 텐서로 변환\n",
    "X_train = torch.FloatTensor(train.values)\n",
    "X_test = torch.FloatTensor(test.values)\n",
    "\n",
    "y_train = torch.FloatTensor(train_y)\n",
    "y_test = torch.FloatTensor(test_y)\n"
   ]
  },
  {
   "cell_type": "code",
   "execution_count": 15,
   "metadata": {},
   "outputs": [
    {
     "name": "stdout",
     "output_type": "stream",
     "text": [
      "X_train torch.Size([60000, 784]), 2D, torch.Size([60000, 2]), 2D\n",
      "X_test torch.Size([10000, 784]), 2D, torch.Size([10000, 2]), 2D\n"
     ]
    }
   ],
   "source": [
    "print(f\"X_train {X_train.shape}, {X_train.ndim}D, {y_train.shape}, {y_train.ndim}D\")\n",
    "print(f\"X_test {X_test.shape}, {X_test.ndim}D, {y_test.shape}, {y_test.ndim}D\")\n"
   ]
  },
  {
   "cell_type": "code",
   "execution_count": 16,
   "metadata": {},
   "outputs": [
    {
     "data": {
      "text/plain": [
       "Linear(in_features=784, out_features=2, bias=True)"
      ]
     },
     "execution_count": 16,
     "metadata": {},
     "output_type": "execute_result"
    }
   ],
   "source": [
    "### 학습 인스턴스 생성\n",
    "in_, out_ = X_train.shape[1], y_train.shape[1]\n",
    "model = nn.Linear(in_, out_)\n",
    "model\n"
   ]
  },
  {
   "cell_type": "code",
   "execution_count": 17,
   "metadata": {},
   "outputs": [],
   "source": [
    "### 최적화 인스턴스 생성 => 모델에서 사용하는 W, b 변수들 전달\n",
    "optimizer = optim.Adam(model.parameters())\n"
   ]
  },
  {
   "cell_type": "code",
   "execution_count": 18,
   "metadata": {},
   "outputs": [],
   "source": [
    "### 학습 횟수 => 샘플 처음부터 끝까지 읽는 것 기준으로 횟수 지정\n",
    "EPOCHS = 150\n"
   ]
  },
  {
   "cell_type": "markdown",
   "metadata": {},
   "source": [
    "[4] 학습 <hr>\n",
    "\n",
    "-   반복횟수만큼 학습 진행\n"
   ]
  },
  {
   "cell_type": "code",
   "execution_count": 20,
   "metadata": {},
   "outputs": [
    {
     "name": "stdout",
     "output_type": "stream",
     "text": [
      "[0] Loss => 0.6307604312896729\n",
      "[1] Loss => 0.562859833240509\n",
      "[2] Loss => 0.5092499852180481\n",
      "[3] Loss => 0.46835756301879883\n",
      "[4] Loss => 0.43809589743614197\n",
      "[5] Loss => 0.41625073552131653\n",
      "[6] Loss => 0.40075692534446716\n",
      "[7] Loss => 0.38984888792037964\n",
      "[8] Loss => 0.3821081817150116\n",
      "[9] Loss => 0.37644559144973755\n",
      "[10] Loss => 0.37205344438552856\n",
      "[11] Loss => 0.36834943294525146\n",
      "[12] Loss => 0.36492568254470825\n",
      "[13] Loss => 0.3615056276321411\n",
      "[14] Loss => 0.35791075229644775\n",
      "[15] Loss => 0.3540349304676056\n",
      "[16] Loss => 0.34982532262802124\n",
      "[17] Loss => 0.3452683091163635\n",
      "[18] Loss => 0.34037908911705017\n",
      "[19] Loss => 0.3351939916610718\n",
      "[20] Loss => 0.32976454496383667\n",
      "[21] Loss => 0.32415318489074707\n",
      "[22] Loss => 0.3184293508529663\n",
      "[23] Loss => 0.31266677379608154\n",
      "[24] Loss => 0.3069399297237396\n",
      "[25] Loss => 0.3013218939304352\n",
      "[26] Loss => 0.2958810031414032\n",
      "[27] Loss => 0.29067787528038025\n",
      "[28] Loss => 0.28576263785362244\n",
      "[29] Loss => 0.2811717689037323\n",
      "[30] Loss => 0.2769259810447693\n",
      "[31] Loss => 0.2730281949043274\n",
      "[32] Loss => 0.2694637179374695\n",
      "[33] Loss => 0.26620087027549744\n",
      "[34] Loss => 0.26319435238838196\n",
      "[35] Loss => 0.26038914918899536\n",
      "[36] Loss => 0.25772640109062195\n",
      "[37] Loss => 0.25514909625053406\n",
      "[38] Loss => 0.25260764360427856\n",
      "[39] Loss => 0.250063955783844\n",
      "[40] Loss => 0.24749408662319183\n",
      "[41] Loss => 0.2448885589838028\n",
      "[42] Loss => 0.24225103855133057\n",
      "[43] Loss => 0.23959574103355408\n",
      "[44] Loss => 0.23694339394569397\n",
      "[45] Loss => 0.23431800305843353\n",
      "[46] Loss => 0.23174293339252472\n",
      "[47] Loss => 0.22923840582370758\n",
      "[48] Loss => 0.22681967914104462\n",
      "[49] Loss => 0.22449609637260437\n",
      "[50] Loss => 0.22227120399475098\n",
      "[51] Loss => 0.22014325857162476\n",
      "[52] Loss => 0.2181064337491989\n",
      "[53] Loss => 0.21615205705165863\n",
      "[54] Loss => 0.21427005529403687\n",
      "[55] Loss => 0.21244996786117554\n",
      "[56] Loss => 0.21068212389945984\n",
      "[57] Loss => 0.20895840227603912\n",
      "[58] Loss => 0.20727236568927765\n",
      "[59] Loss => 0.20561981201171875\n",
      "[60] Loss => 0.2039983719587326\n",
      "[61] Loss => 0.20240743458271027\n",
      "[62] Loss => 0.20084774494171143\n",
      "[63] Loss => 0.19932082295417786\n",
      "[64] Loss => 0.19782871007919312\n",
      "[65] Loss => 0.19637343287467957\n",
      "[66] Loss => 0.1949566751718521\n",
      "[67] Loss => 0.19357946515083313\n",
      "[68] Loss => 0.19224222004413605\n",
      "[69] Loss => 0.19094449281692505\n",
      "[70] Loss => 0.18968528509140015\n",
      "[71] Loss => 0.18846282362937927\n",
      "[72] Loss => 0.18727506697177887\n",
      "[73] Loss => 0.18611972033977509\n",
      "[74] Loss => 0.18499450385570526\n",
      "[75] Loss => 0.1838972270488739\n",
      "[76] Loss => 0.18282601237297058\n",
      "[77] Loss => 0.18177928030490875\n",
      "[78] Loss => 0.1807558536529541\n",
      "[79] Loss => 0.17975491285324097\n",
      "[80] Loss => 0.178775817155838\n",
      "[81] Loss => 0.17781831324100494\n",
      "[82] Loss => 0.17688216269016266\n",
      "[83] Loss => 0.17596721649169922\n",
      "[84] Loss => 0.17507337033748627\n",
      "[85] Loss => 0.17420043051242828\n",
      "[86] Loss => 0.17334800958633423\n",
      "[87] Loss => 0.17251580953598022\n",
      "[88] Loss => 0.1717032492160797\n",
      "[89] Loss => 0.17090974748134613\n",
      "[90] Loss => 0.17013467848300934\n",
      "[91] Loss => 0.16937731206417084\n",
      "[92] Loss => 0.1686369627714157\n",
      "[93] Loss => 0.16791300475597382\n",
      "[94] Loss => 0.16720475256443024\n",
      "[95] Loss => 0.166511669754982\n",
      "[96] Loss => 0.1658332347869873\n",
      "[97] Loss => 0.16516900062561035\n",
      "[98] Loss => 0.1645185500383377\n",
      "[99] Loss => 0.1638815701007843\n",
      "[100] Loss => 0.16325771808624268\n",
      "[101] Loss => 0.16264669597148895\n",
      "[102] Loss => 0.16204820573329926\n",
      "[103] Loss => 0.1614619493484497\n",
      "[104] Loss => 0.16088765859603882\n",
      "[105] Loss => 0.1603250354528427\n",
      "[106] Loss => 0.15977376699447632\n",
      "[107] Loss => 0.15923355519771576\n",
      "[108] Loss => 0.15870407223701477\n",
      "[109] Loss => 0.15818502008914948\n",
      "[110] Loss => 0.1576760709285736\n",
      "[111] Loss => 0.15717697143554688\n",
      "[112] Loss => 0.1566874086856842\n",
      "[113] Loss => 0.1562071144580841\n",
      "[114] Loss => 0.1557358205318451\n",
      "[115] Loss => 0.15527331829071045\n",
      "[116] Loss => 0.15481936931610107\n",
      "[117] Loss => 0.15437375009059906\n",
      "[118] Loss => 0.1539362668991089\n",
      "[119] Loss => 0.15350671112537384\n",
      "[120] Loss => 0.1530849188566208\n",
      "[121] Loss => 0.15267066657543182\n",
      "[122] Loss => 0.1522638350725174\n",
      "[123] Loss => 0.1518642157316208\n",
      "[124] Loss => 0.15147161483764648\n",
      "[125] Loss => 0.15108588337898254\n",
      "[126] Loss => 0.15070685744285583\n",
      "[127] Loss => 0.15033438801765442\n",
      "[128] Loss => 0.14996829628944397\n",
      "[129] Loss => 0.14960843324661255\n",
      "[130] Loss => 0.14925463497638702\n",
      "[131] Loss => 0.14890678226947784\n",
      "[132] Loss => 0.14856471121311188\n",
      "[133] Loss => 0.14822831749916077\n",
      "[134] Loss => 0.14789743721485138\n",
      "[135] Loss => 0.14757196605205536\n",
      "[136] Loss => 0.14725175499916077\n",
      "[137] Loss => 0.14693672955036163\n",
      "[138] Loss => 0.14662674069404602\n",
      "[139] Loss => 0.14632168412208557\n",
      "[140] Loss => 0.14602148532867432\n",
      "[141] Loss => 0.14572598040103912\n",
      "[142] Loss => 0.14543509483337402\n",
      "[143] Loss => 0.14514870941638947\n",
      "[144] Loss => 0.14486676454544067\n",
      "[145] Loss => 0.1445891261100769\n",
      "[146] Loss => 0.1443157196044922\n",
      "[147] Loss => 0.14404648542404175\n",
      "[148] Loss => 0.14378128945827484\n",
      "[149] Loss => 0.1435200423002243\n",
      "[150] Loss => 0.14326268434524536\n"
     ]
    }
   ],
   "source": [
    "loss_accuracy = [[], []]\n",
    "\n",
    "for ep in range(EPOCHS + 1):\n",
    "    # 학습\n",
    "    pre_y = model(X_train)\n",
    "\n",
    "    # 분류값 변환\n",
    "    pre_y2 = F.sigmoid(pre_y)\n",
    "\n",
    "    # 오차 즉 손실 계산\n",
    "    loss = F.binary_cross_entropy(pre_y2, y_train)\n",
    "    loss_accuracy[0].append(loss.item())\n",
    "    print(f\"[{ep}] Loss => {loss}\")\n",
    "\n",
    "    # W, b 업데이트\n",
    "    optimizer.zero_grad()\n",
    "    loss.backward()  # 손실함수 계산값으로 미분 진행하여 새로운 W, b 계산\n",
    "    optimizer.step()\n",
    "\n",
    "    # 정확도 계산 => 예측값을 0과 1로 변환 ==> 정답과 비교\n",
    "    train_accuracy = (\n",
    "        (y_train.argmax(dim=1) == pre_y2.argmax(dim=1)).sum()\n",
    "    ) / y_train.shape[0]\n",
    "    loss_accuracy[1].append(train_accuracy.item())\n"
   ]
  },
  {
   "cell_type": "code",
   "execution_count": 21,
   "metadata": {},
   "outputs": [
    {
     "data": {
      "image/png": "[encoded data removed]",
      "text/plain": [
       "<Figure size 640x480 with 2 Axes>"
      ]
     },
     "metadata": {},
     "output_type": "display_data"
    }
   ],
   "source": [
    "## 손실과 정확도 시각화\n",
    "import matplotlib.pyplot as plt\n",
    "\n",
    "fig, ax1 = plt.subplots()\n",
    "ax1.plot(loss_accuracy[0], label=\"Loss\")\n",
    "ax1.legend(loc=\"upper left\")\n",
    "ax1.set_xlabel(\"Epochs\")\n",
    "ax1.set_ylabel(\"Loss\")\n",
    "ax2 = ax1.twinx()\n",
    "ax2.plot(loss_accuracy[1], label=\"Accuracy\", color=\"red\")\n",
    "ax2.legend(loc=\"upper right\")\n",
    "ax2.set_ylabel(\"Accuracy\")\n",
    "plt.show()\n"
   ]
  },
  {
   "cell_type": "code",
   "execution_count": null,
   "metadata": {},
   "outputs": [],
   "source": []
  }
 ],
 "metadata": {
  "kernelspec": {
   "display_name": "Torch_PY38",
   "language": "python",
   "name": "python3"
  },
  "language_info": {
   "codemirror_mode": {
    "name": "ipython",
    "version": 3
   },
   "file_extension": ".py",
   "mimetype": "text/x-python",
   "name": "python",
   "nbconvert_exporter": "python",
   "pygments_lexer": "ipython3",
   "version": "3.8.18"
  }
 },
 "nbformat": 4,
 "nbformat_minor": 2
}
