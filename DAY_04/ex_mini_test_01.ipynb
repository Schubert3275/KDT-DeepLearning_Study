{
 "cells": [
  {
   "cell_type": "markdown",
   "metadata": {},
   "source": [
    "## [이미지 데이터 - 이진분류 모델]\n",
    "\n",
    "-   데이터셋 : scikit-learn Fashion MNIST\n",
    "-   데이터수 : 학습용 60000, 테스트용 10000\n",
    "-   피쳐갯수 :\n",
    "-   타겟갯수:\n"
   ]
  },
  {
   "cell_type": "code",
   "execution_count": 1,
   "metadata": {},
   "outputs": [],
   "source": [
    "# 모듈 로딩\n",
    "from sklearn.datasets import fetch_openml\n",
    "import pandas as pd\n",
    "import numpy as np\n",
    "\n",
    "import torch\n",
    "import torch.nn as nn  # LinearRegression기능의 클래스 Linear\n",
    "import torch.nn.functional as F  # 손실함수\n",
    "import torch.optim as optim  # 경사하강법 기반의 최적화 관련 모듈\n"
   ]
  },
  {
   "cell_type": "code",
   "execution_count": 2,
   "metadata": {},
   "outputs": [],
   "source": [
    "### ===> 데이터 준비\n",
    "fashion_db = \"fashion-mnist\"\n",
    "\n",
    "fashion_data = fetch_openml(name=fashion_db, parser=\"auto\")  # , as_frame=False)\n"
   ]
  },
  {
   "cell_type": "code",
   "execution_count": 3,
   "metadata": {},
   "outputs": [],
   "source": [
    "### ===> 데이터 확인\n",
    "feature = fashion_data.data\n",
    "target = fashion_data.target\n"
   ]
  },
  {
   "cell_type": "code",
   "execution_count": 4,
   "metadata": {},
   "outputs": [
    {
     "name": "stdout",
     "output_type": "stream",
     "text": [
      "FEATURE => (70000, 784), 2D\n",
      "TARGET => (70000,), 1D\n"
     ]
    }
   ],
   "source": [
    "# 피쳐와 타겟 갯수 확인\n",
    "print(f\"FEATURE => {feature.shape}, {feature.ndim}D\")\n",
    "print(f\"TARGET => {target.shape}, {target.ndim}D\")\n"
   ]
  },
  {
   "cell_type": "code",
   "execution_count": 5,
   "metadata": {},
   "outputs": [
    {
     "name": "stdout",
     "output_type": "stream",
     "text": [
      "FEATURE    => ['pixel1', 'pixel2', 'pixel3', 'pixel4', 'pixel5', 'pixel6', 'pixel7', 'pixel8', 'pixel9', 'pixel10', 'pixel11', 'pixel12', 'pixel13', 'pixel14', 'pixel15', 'pixel16', 'pixel17', 'pixel18', 'pixel19', 'pixel20', 'pixel21', 'pixel22', 'pixel23', 'pixel24', 'pixel25', 'pixel26', 'pixel27', 'pixel28', 'pixel29', 'pixel30', 'pixel31', 'pixel32', 'pixel33', 'pixel34', 'pixel35', 'pixel36', 'pixel37', 'pixel38', 'pixel39', 'pixel40', 'pixel41', 'pixel42', 'pixel43', 'pixel44', 'pixel45', 'pixel46', 'pixel47', 'pixel48', 'pixel49', 'pixel50', 'pixel51', 'pixel52', 'pixel53', 'pixel54', 'pixel55', 'pixel56', 'pixel57', 'pixel58', 'pixel59', 'pixel60', 'pixel61', 'pixel62', 'pixel63', 'pixel64', 'pixel65', 'pixel66', 'pixel67', 'pixel68', 'pixel69', 'pixel70', 'pixel71', 'pixel72', 'pixel73', 'pixel74', 'pixel75', 'pixel76', 'pixel77', 'pixel78', 'pixel79', 'pixel80', 'pixel81', 'pixel82', 'pixel83', 'pixel84', 'pixel85', 'pixel86', 'pixel87', 'pixel88', 'pixel89', 'pixel90', 'pixel91', 'pixel92', 'pixel93', 'pixel94', 'pixel95', 'pixel96', 'pixel97', 'pixel98', 'pixel99', 'pixel100', 'pixel101', 'pixel102', 'pixel103', 'pixel104', 'pixel105', 'pixel106', 'pixel107', 'pixel108', 'pixel109', 'pixel110', 'pixel111', 'pixel112', 'pixel113', 'pixel114', 'pixel115', 'pixel116', 'pixel117', 'pixel118', 'pixel119', 'pixel120', 'pixel121', 'pixel122', 'pixel123', 'pixel124', 'pixel125', 'pixel126', 'pixel127', 'pixel128', 'pixel129', 'pixel130', 'pixel131', 'pixel132', 'pixel133', 'pixel134', 'pixel135', 'pixel136', 'pixel137', 'pixel138', 'pixel139', 'pixel140', 'pixel141', 'pixel142', 'pixel143', 'pixel144', 'pixel145', 'pixel146', 'pixel147', 'pixel148', 'pixel149', 'pixel150', 'pixel151', 'pixel152', 'pixel153', 'pixel154', 'pixel155', 'pixel156', 'pixel157', 'pixel158', 'pixel159', 'pixel160', 'pixel161', 'pixel162', 'pixel163', 'pixel164', 'pixel165', 'pixel166', 'pixel167', 'pixel168', 'pixel169', 'pixel170', 'pixel171', 'pixel172', 'pixel173', 'pixel174', 'pixel175', 'pixel176', 'pixel177', 'pixel178', 'pixel179', 'pixel180', 'pixel181', 'pixel182', 'pixel183', 'pixel184', 'pixel185', 'pixel186', 'pixel187', 'pixel188', 'pixel189', 'pixel190', 'pixel191', 'pixel192', 'pixel193', 'pixel194', 'pixel195', 'pixel196', 'pixel197', 'pixel198', 'pixel199', 'pixel200', 'pixel201', 'pixel202', 'pixel203', 'pixel204', 'pixel205', 'pixel206', 'pixel207', 'pixel208', 'pixel209', 'pixel210', 'pixel211', 'pixel212', 'pixel213', 'pixel214', 'pixel215', 'pixel216', 'pixel217', 'pixel218', 'pixel219', 'pixel220', 'pixel221', 'pixel222', 'pixel223', 'pixel224', 'pixel225', 'pixel226', 'pixel227', 'pixel228', 'pixel229', 'pixel230', 'pixel231', 'pixel232', 'pixel233', 'pixel234', 'pixel235', 'pixel236', 'pixel237', 'pixel238', 'pixel239', 'pixel240', 'pixel241', 'pixel242', 'pixel243', 'pixel244', 'pixel245', 'pixel246', 'pixel247', 'pixel248', 'pixel249', 'pixel250', 'pixel251', 'pixel252', 'pixel253', 'pixel254', 'pixel255', 'pixel256', 'pixel257', 'pixel258', 'pixel259', 'pixel260', 'pixel261', 'pixel262', 'pixel263', 'pixel264', 'pixel265', 'pixel266', 'pixel267', 'pixel268', 'pixel269', 'pixel270', 'pixel271', 'pixel272', 'pixel273', 'pixel274', 'pixel275', 'pixel276', 'pixel277', 'pixel278', 'pixel279', 'pixel280', 'pixel281', 'pixel282', 'pixel283', 'pixel284', 'pixel285', 'pixel286', 'pixel287', 'pixel288', 'pixel289', 'pixel290', 'pixel291', 'pixel292', 'pixel293', 'pixel294', 'pixel295', 'pixel296', 'pixel297', 'pixel298', 'pixel299', 'pixel300', 'pixel301', 'pixel302', 'pixel303', 'pixel304', 'pixel305', 'pixel306', 'pixel307', 'pixel308', 'pixel309', 'pixel310', 'pixel311', 'pixel312', 'pixel313', 'pixel314', 'pixel315', 'pixel316', 'pixel317', 'pixel318', 'pixel319', 'pixel320', 'pixel321', 'pixel322', 'pixel323', 'pixel324', 'pixel325', 'pixel326', 'pixel327', 'pixel328', 'pixel329', 'pixel330', 'pixel331', 'pixel332', 'pixel333', 'pixel334', 'pixel335', 'pixel336', 'pixel337', 'pixel338', 'pixel339', 'pixel340', 'pixel341', 'pixel342', 'pixel343', 'pixel344', 'pixel345', 'pixel346', 'pixel347', 'pixel348', 'pixel349', 'pixel350', 'pixel351', 'pixel352', 'pixel353', 'pixel354', 'pixel355', 'pixel356', 'pixel357', 'pixel358', 'pixel359', 'pixel360', 'pixel361', 'pixel362', 'pixel363', 'pixel364', 'pixel365', 'pixel366', 'pixel367', 'pixel368', 'pixel369', 'pixel370', 'pixel371', 'pixel372', 'pixel373', 'pixel374', 'pixel375', 'pixel376', 'pixel377', 'pixel378', 'pixel379', 'pixel380', 'pixel381', 'pixel382', 'pixel383', 'pixel384', 'pixel385', 'pixel386', 'pixel387', 'pixel388', 'pixel389', 'pixel390', 'pixel391', 'pixel392', 'pixel393', 'pixel394', 'pixel395', 'pixel396', 'pixel397', 'pixel398', 'pixel399', 'pixel400', 'pixel401', 'pixel402', 'pixel403', 'pixel404', 'pixel405', 'pixel406', 'pixel407', 'pixel408', 'pixel409', 'pixel410', 'pixel411', 'pixel412', 'pixel413', 'pixel414', 'pixel415', 'pixel416', 'pixel417', 'pixel418', 'pixel419', 'pixel420', 'pixel421', 'pixel422', 'pixel423', 'pixel424', 'pixel425', 'pixel426', 'pixel427', 'pixel428', 'pixel429', 'pixel430', 'pixel431', 'pixel432', 'pixel433', 'pixel434', 'pixel435', 'pixel436', 'pixel437', 'pixel438', 'pixel439', 'pixel440', 'pixel441', 'pixel442', 'pixel443', 'pixel444', 'pixel445', 'pixel446', 'pixel447', 'pixel448', 'pixel449', 'pixel450', 'pixel451', 'pixel452', 'pixel453', 'pixel454', 'pixel455', 'pixel456', 'pixel457', 'pixel458', 'pixel459', 'pixel460', 'pixel461', 'pixel462', 'pixel463', 'pixel464', 'pixel465', 'pixel466', 'pixel467', 'pixel468', 'pixel469', 'pixel470', 'pixel471', 'pixel472', 'pixel473', 'pixel474', 'pixel475', 'pixel476', 'pixel477', 'pixel478', 'pixel479', 'pixel480', 'pixel481', 'pixel482', 'pixel483', 'pixel484', 'pixel485', 'pixel486', 'pixel487', 'pixel488', 'pixel489', 'pixel490', 'pixel491', 'pixel492', 'pixel493', 'pixel494', 'pixel495', 'pixel496', 'pixel497', 'pixel498', 'pixel499', 'pixel500', 'pixel501', 'pixel502', 'pixel503', 'pixel504', 'pixel505', 'pixel506', 'pixel507', 'pixel508', 'pixel509', 'pixel510', 'pixel511', 'pixel512', 'pixel513', 'pixel514', 'pixel515', 'pixel516', 'pixel517', 'pixel518', 'pixel519', 'pixel520', 'pixel521', 'pixel522', 'pixel523', 'pixel524', 'pixel525', 'pixel526', 'pixel527', 'pixel528', 'pixel529', 'pixel530', 'pixel531', 'pixel532', 'pixel533', 'pixel534', 'pixel535', 'pixel536', 'pixel537', 'pixel538', 'pixel539', 'pixel540', 'pixel541', 'pixel542', 'pixel543', 'pixel544', 'pixel545', 'pixel546', 'pixel547', 'pixel548', 'pixel549', 'pixel550', 'pixel551', 'pixel552', 'pixel553', 'pixel554', 'pixel555', 'pixel556', 'pixel557', 'pixel558', 'pixel559', 'pixel560', 'pixel561', 'pixel562', 'pixel563', 'pixel564', 'pixel565', 'pixel566', 'pixel567', 'pixel568', 'pixel569', 'pixel570', 'pixel571', 'pixel572', 'pixel573', 'pixel574', 'pixel575', 'pixel576', 'pixel577', 'pixel578', 'pixel579', 'pixel580', 'pixel581', 'pixel582', 'pixel583', 'pixel584', 'pixel585', 'pixel586', 'pixel587', 'pixel588', 'pixel589', 'pixel590', 'pixel591', 'pixel592', 'pixel593', 'pixel594', 'pixel595', 'pixel596', 'pixel597', 'pixel598', 'pixel599', 'pixel600', 'pixel601', 'pixel602', 'pixel603', 'pixel604', 'pixel605', 'pixel606', 'pixel607', 'pixel608', 'pixel609', 'pixel610', 'pixel611', 'pixel612', 'pixel613', 'pixel614', 'pixel615', 'pixel616', 'pixel617', 'pixel618', 'pixel619', 'pixel620', 'pixel621', 'pixel622', 'pixel623', 'pixel624', 'pixel625', 'pixel626', 'pixel627', 'pixel628', 'pixel629', 'pixel630', 'pixel631', 'pixel632', 'pixel633', 'pixel634', 'pixel635', 'pixel636', 'pixel637', 'pixel638', 'pixel639', 'pixel640', 'pixel641', 'pixel642', 'pixel643', 'pixel644', 'pixel645', 'pixel646', 'pixel647', 'pixel648', 'pixel649', 'pixel650', 'pixel651', 'pixel652', 'pixel653', 'pixel654', 'pixel655', 'pixel656', 'pixel657', 'pixel658', 'pixel659', 'pixel660', 'pixel661', 'pixel662', 'pixel663', 'pixel664', 'pixel665', 'pixel666', 'pixel667', 'pixel668', 'pixel669', 'pixel670', 'pixel671', 'pixel672', 'pixel673', 'pixel674', 'pixel675', 'pixel676', 'pixel677', 'pixel678', 'pixel679', 'pixel680', 'pixel681', 'pixel682', 'pixel683', 'pixel684', 'pixel685', 'pixel686', 'pixel687', 'pixel688', 'pixel689', 'pixel690', 'pixel691', 'pixel692', 'pixel693', 'pixel694', 'pixel695', 'pixel696', 'pixel697', 'pixel698', 'pixel699', 'pixel700', 'pixel701', 'pixel702', 'pixel703', 'pixel704', 'pixel705', 'pixel706', 'pixel707', 'pixel708', 'pixel709', 'pixel710', 'pixel711', 'pixel712', 'pixel713', 'pixel714', 'pixel715', 'pixel716', 'pixel717', 'pixel718', 'pixel719', 'pixel720', 'pixel721', 'pixel722', 'pixel723', 'pixel724', 'pixel725', 'pixel726', 'pixel727', 'pixel728', 'pixel729', 'pixel730', 'pixel731', 'pixel732', 'pixel733', 'pixel734', 'pixel735', 'pixel736', 'pixel737', 'pixel738', 'pixel739', 'pixel740', 'pixel741', 'pixel742', 'pixel743', 'pixel744', 'pixel745', 'pixel746', 'pixel747', 'pixel748', 'pixel749', 'pixel750', 'pixel751', 'pixel752', 'pixel753', 'pixel754', 'pixel755', 'pixel756', 'pixel757', 'pixel758', 'pixel759', 'pixel760', 'pixel761', 'pixel762', 'pixel763', 'pixel764', 'pixel765', 'pixel766', 'pixel767', 'pixel768', 'pixel769', 'pixel770', 'pixel771', 'pixel772', 'pixel773', 'pixel774', 'pixel775', 'pixel776', 'pixel777', 'pixel778', 'pixel779', 'pixel780', 'pixel781', 'pixel782', 'pixel783', 'pixel784']\n",
      "TARGET     => ['class']\n",
      "CATEGORIES => None\n",
      "CATEGORIES => ['9', '0', '3', '2', '7', '5', '1', '6', '4', '8']\n",
      "Categories (10, object): ['0', '1', '2', '3', ..., '6', '7', '8', '9']\n"
     ]
    }
   ],
   "source": [
    "# 분류 확인\n",
    "print(f'FEATURE    => {fashion_data[\"feature_names\"]}')\n",
    "print(f'TARGET     => {fashion_data[\"target_names\"]}')\n",
    "print(f'CATEGORIES => {fashion_data[\"categories\"]}')\n",
    "print(f\"CATEGORIES => {target.unique()}\")\n"
   ]
  },
  {
   "cell_type": "markdown",
   "metadata": {},
   "source": [
    "[2] 데이터 가공 및 전처리 <hr>\n",
    "\n",
    "-   결측치/중복/이상치 => 없음\n",
    "-   다중분류 ==> 2진분류 변환 : target 변환\n",
    "-   표준화 ==> 이미지 동일 크기 및 색상채널 : 동일 크기(28\\*28)와 채널(흑백 1)\n",
    "-   정규화 ==> 피쳐 정규화/타겟 정규화\n"
   ]
  },
  {
   "cell_type": "code",
   "execution_count": 6,
   "metadata": {},
   "outputs": [
    {
     "data": {
      "text/plain": [
       "array([False,  True])"
      ]
     },
     "execution_count": 6,
     "metadata": {},
     "output_type": "execute_result"
    }
   ],
   "source": [
    "### ===> [2-1] 다중분류 ==> 2진분류 변환 : target 변환\n",
    "target = target == \"0\"\n",
    "target.unique()\n"
   ]
  },
  {
   "cell_type": "code",
   "execution_count": 7,
   "metadata": {},
   "outputs": [
    {
     "data": {
      "text/html": [
       "<div>\n",
       "<style scoped>\n",
       "    .dataframe tbody tr th:only-of-type {\n",
       "        vertical-align: middle;\n",
       "    }\n",
       "\n",
       "    .dataframe tbody tr th {\n",
       "        vertical-align: top;\n",
       "    }\n",
       "\n",
       "    .dataframe thead th {\n",
       "        text-align: right;\n",
       "    }\n",
       "</style>\n",
       "<table border=\"1\" class=\"dataframe\">\n",
       "  <thead>\n",
       "    <tr style=\"text-align: right;\">\n",
       "      <th></th>\n",
       "      <th>pixel1</th>\n",
       "      <th>pixel2</th>\n",
       "      <th>pixel3</th>\n",
       "      <th>pixel4</th>\n",
       "      <th>pixel5</th>\n",
       "      <th>pixel6</th>\n",
       "      <th>pixel7</th>\n",
       "      <th>pixel8</th>\n",
       "      <th>pixel9</th>\n",
       "      <th>pixel10</th>\n",
       "      <th>...</th>\n",
       "      <th>pixel775</th>\n",
       "      <th>pixel776</th>\n",
       "      <th>pixel777</th>\n",
       "      <th>pixel778</th>\n",
       "      <th>pixel779</th>\n",
       "      <th>pixel780</th>\n",
       "      <th>pixel781</th>\n",
       "      <th>pixel782</th>\n",
       "      <th>pixel783</th>\n",
       "      <th>pixel784</th>\n",
       "    </tr>\n",
       "  </thead>\n",
       "  <tbody>\n",
       "    <tr>\n",
       "      <th>0</th>\n",
       "      <td>0.0</td>\n",
       "      <td>0.0</td>\n",
       "      <td>0.0</td>\n",
       "      <td>0.0</td>\n",
       "      <td>0.0</td>\n",
       "      <td>0.000000</td>\n",
       "      <td>0.0</td>\n",
       "      <td>0.0</td>\n",
       "      <td>0.0</td>\n",
       "      <td>0.0</td>\n",
       "      <td>...</td>\n",
       "      <td>0.000000</td>\n",
       "      <td>0.000000</td>\n",
       "      <td>0.000000</td>\n",
       "      <td>0.000000</td>\n",
       "      <td>0.0</td>\n",
       "      <td>0.0</td>\n",
       "      <td>0.0</td>\n",
       "      <td>0.0</td>\n",
       "      <td>0.0</td>\n",
       "      <td>0.0</td>\n",
       "    </tr>\n",
       "    <tr>\n",
       "      <th>1</th>\n",
       "      <td>0.0</td>\n",
       "      <td>0.0</td>\n",
       "      <td>0.0</td>\n",
       "      <td>0.0</td>\n",
       "      <td>0.0</td>\n",
       "      <td>0.003922</td>\n",
       "      <td>0.0</td>\n",
       "      <td>0.0</td>\n",
       "      <td>0.0</td>\n",
       "      <td>0.0</td>\n",
       "      <td>...</td>\n",
       "      <td>0.466667</td>\n",
       "      <td>0.447059</td>\n",
       "      <td>0.509804</td>\n",
       "      <td>0.298039</td>\n",
       "      <td>0.0</td>\n",
       "      <td>0.0</td>\n",
       "      <td>0.0</td>\n",
       "      <td>0.0</td>\n",
       "      <td>0.0</td>\n",
       "      <td>0.0</td>\n",
       "    </tr>\n",
       "  </tbody>\n",
       "</table>\n",
       "<p>2 rows × 784 columns</p>\n",
       "</div>"
      ],
      "text/plain": [
       "   pixel1  pixel2  pixel3  pixel4  pixel5    pixel6  pixel7  pixel8  pixel9  \\\n",
       "0     0.0     0.0     0.0     0.0     0.0  0.000000     0.0     0.0     0.0   \n",
       "1     0.0     0.0     0.0     0.0     0.0  0.003922     0.0     0.0     0.0   \n",
       "\n",
       "   pixel10  ...  pixel775  pixel776  pixel777  pixel778  pixel779  pixel780  \\\n",
       "0      0.0  ...  0.000000  0.000000  0.000000  0.000000       0.0       0.0   \n",
       "1      0.0  ...  0.466667  0.447059  0.509804  0.298039       0.0       0.0   \n",
       "\n",
       "   pixel781  pixel782  pixel783  pixel784  \n",
       "0       0.0       0.0       0.0       0.0  \n",
       "1       0.0       0.0       0.0       0.0  \n",
       "\n",
       "[2 rows x 784 columns]"
      ]
     },
     "execution_count": 7,
     "metadata": {},
     "output_type": "execute_result"
    }
   ],
   "source": [
    "### ===> [2-2] 정규화 ==> 피쳐 : 784개 색상값 즉, 0 ~ 255 범위 값\n",
    "norm_feature = feature / 255.0\n",
    "norm_feature.head(2)\n"
   ]
  },
  {
   "cell_type": "code",
   "execution_count": 8,
   "metadata": {},
   "outputs": [
    {
     "data": {
      "text/html": [
       "<div>\n",
       "<style scoped>\n",
       "    .dataframe tbody tr th:only-of-type {\n",
       "        vertical-align: middle;\n",
       "    }\n",
       "\n",
       "    .dataframe tbody tr th {\n",
       "        vertical-align: top;\n",
       "    }\n",
       "\n",
       "    .dataframe thead th {\n",
       "        text-align: right;\n",
       "    }\n",
       "</style>\n",
       "<table border=\"1\" class=\"dataframe\">\n",
       "  <thead>\n",
       "    <tr style=\"text-align: right;\">\n",
       "      <th></th>\n",
       "      <th>False</th>\n",
       "      <th>True</th>\n",
       "    </tr>\n",
       "  </thead>\n",
       "  <tbody>\n",
       "    <tr>\n",
       "      <th>0</th>\n",
       "      <td>True</td>\n",
       "      <td>False</td>\n",
       "    </tr>\n",
       "    <tr>\n",
       "      <th>1</th>\n",
       "      <td>False</td>\n",
       "      <td>True</td>\n",
       "    </tr>\n",
       "    <tr>\n",
       "      <th>2</th>\n",
       "      <td>False</td>\n",
       "      <td>True</td>\n",
       "    </tr>\n",
       "    <tr>\n",
       "      <th>3</th>\n",
       "      <td>True</td>\n",
       "      <td>False</td>\n",
       "    </tr>\n",
       "    <tr>\n",
       "      <th>4</th>\n",
       "      <td>False</td>\n",
       "      <td>True</td>\n",
       "    </tr>\n",
       "    <tr>\n",
       "      <th>...</th>\n",
       "      <td>...</td>\n",
       "      <td>...</td>\n",
       "    </tr>\n",
       "    <tr>\n",
       "      <th>69995</th>\n",
       "      <td>True</td>\n",
       "      <td>False</td>\n",
       "    </tr>\n",
       "    <tr>\n",
       "      <th>69996</th>\n",
       "      <td>True</td>\n",
       "      <td>False</td>\n",
       "    </tr>\n",
       "    <tr>\n",
       "      <th>69997</th>\n",
       "      <td>True</td>\n",
       "      <td>False</td>\n",
       "    </tr>\n",
       "    <tr>\n",
       "      <th>69998</th>\n",
       "      <td>True</td>\n",
       "      <td>False</td>\n",
       "    </tr>\n",
       "    <tr>\n",
       "      <th>69999</th>\n",
       "      <td>True</td>\n",
       "      <td>False</td>\n",
       "    </tr>\n",
       "  </tbody>\n",
       "</table>\n",
       "<p>70000 rows × 2 columns</p>\n",
       "</div>"
      ],
      "text/plain": [
       "       False  True \n",
       "0       True  False\n",
       "1      False   True\n",
       "2      False   True\n",
       "3       True  False\n",
       "4      False   True\n",
       "...      ...    ...\n",
       "69995   True  False\n",
       "69996   True  False\n",
       "69997   True  False\n",
       "69998   True  False\n",
       "69999   True  False\n",
       "\n",
       "[70000 rows x 2 columns]"
      ]
     },
     "execution_count": 8,
     "metadata": {},
     "output_type": "execute_result"
    }
   ],
   "source": [
    "### ===> [2-2] 정규화 ==> 타겟 : One-Hot 인코딩으로 변환\n",
    "pd.get_dummies(target)\n"
   ]
  },
  {
   "cell_type": "code",
   "execution_count": 9,
   "metadata": {},
   "outputs": [
    {
     "name": "stdout",
     "output_type": "stream",
     "text": [
      "(70000, 1)\n"
     ]
    }
   ],
   "source": [
    "from sklearn.preprocessing import OneHotEncoder\n",
    "\n",
    "targetDF = target.to_frame()\n",
    "print(targetDF.shape)\n"
   ]
  },
  {
   "cell_type": "code",
   "execution_count": 10,
   "metadata": {},
   "outputs": [
    {
     "data": {
      "text/plain": [
       "[array([False,  True])]"
      ]
     },
     "execution_count": 10,
     "metadata": {},
     "output_type": "execute_result"
    }
   ],
   "source": [
    "# sparse_out=False : ndarray 타입으로 반환\n",
    "ohEncoder = OneHotEncoder(sparse_output=False)\n",
    "ohEncoder.fit(targetDF)\n",
    "ohEncoder.categories_\n"
   ]
  },
  {
   "cell_type": "code",
   "execution_count": 11,
   "metadata": {},
   "outputs": [
    {
     "data": {
      "text/plain": [
       "((70000, 2), 2)"
      ]
     },
     "execution_count": 11,
     "metadata": {},
     "output_type": "execute_result"
    }
   ],
   "source": [
    "norm_target = ohEncoder.transform(targetDF)\n",
    "norm_target.shape, norm_target.ndim\n"
   ]
  },
  {
   "cell_type": "markdown",
   "metadata": {},
   "source": [
    "[3] 학습 준비 <hr>\n",
    "\n",
    "-   텐서화\n",
    "-   데이터셋 준비 : 훈련용, 테스트용\n",
    "-   학습 방법 : 지도학습 - 이진분류 => Linear 클래스 + sigmoid 함수\n",
    "-   최적화방법 : 경사하강법 기반의 방법 => Adam, SGD, ...\n",
    "-   손실함수 : 이진분류 손실 계산 함수 => binary_cross_entropy\n"
   ]
  },
  {
   "cell_type": "code",
   "execution_count": 12,
   "metadata": {},
   "outputs": [],
   "source": [
    "### ===> 데이터셋 준비 : 60000개 훈련, 10000개 테스트\n",
    "limit = 60000\n",
    "\n",
    "train = norm_feature.iloc[:limit]\n",
    "test = norm_feature.iloc[limit:]\n",
    "\n",
    "train_y = target[:limit]\n",
    "test_y = target[limit:]\n"
   ]
  },
  {
   "cell_type": "code",
   "execution_count": 13,
   "metadata": {},
   "outputs": [
    {
     "name": "stdout",
     "output_type": "stream",
     "text": [
      "train (60000, 784), 2D, (60000,), 1D\n",
      "test (10000, 784), 2D, (10000,), 1D\n"
     ]
    }
   ],
   "source": [
    "print(f\"train {train.shape}, {train.ndim}D, {train_y.shape}, {train_y.ndim}D\")\n",
    "print(f\"test {test.shape}, {test.ndim}D, {test_y.shape}, {test_y.ndim}D\")\n"
   ]
  },
  {
   "cell_type": "code",
   "execution_count": 14,
   "metadata": {},
   "outputs": [],
   "source": [
    "### ===> 텐서로 변환\n",
    "X_train = torch.FloatTensor(train.values)\n",
    "X_test = torch.FloatTensor(test.values)\n",
    "\n",
    "y_train = torch.FloatTensor(train_y.values).unsqueeze(1)\n",
    "y_test = torch.FloatTensor(test_y.values).unsqueeze(1)\n"
   ]
  },
  {
   "cell_type": "code",
   "execution_count": 15,
   "metadata": {},
   "outputs": [
    {
     "name": "stdout",
     "output_type": "stream",
     "text": [
      "X_train torch.Size([60000, 784]), 2D, torch.Size([60000, 1]), 2D\n",
      "X_test torch.Size([10000, 784]), 2D, torch.Size([10000, 1]), 2D\n"
     ]
    }
   ],
   "source": [
    "print(f\"X_train {X_train.shape}, {X_train.ndim}D, {y_train.shape}, {y_train.ndim}D\")\n",
    "print(f\"X_test {X_test.shape}, {X_test.ndim}D, {y_test.shape}, {y_test.ndim}D\")\n"
   ]
  },
  {
   "cell_type": "code",
   "execution_count": 16,
   "metadata": {},
   "outputs": [
    {
     "data": {
      "text/plain": [
       "Linear(in_features=784, out_features=1, bias=True)"
      ]
     },
     "execution_count": 16,
     "metadata": {},
     "output_type": "execute_result"
    }
   ],
   "source": [
    "### 학습 인스턴스 생성\n",
    "in_, out_ = X_train.shape[1], y_train.shape[1]\n",
    "model = nn.Linear(in_, out_)\n",
    "model\n"
   ]
  },
  {
   "cell_type": "code",
   "execution_count": 17,
   "metadata": {},
   "outputs": [],
   "source": [
    "### 최적화 인스턴스 생성 => 모델에서 사용하는 W, b 변수들 전달\n",
    "optimizer = optim.Adam(model.parameters())\n"
   ]
  },
  {
   "cell_type": "code",
   "execution_count": 18,
   "metadata": {},
   "outputs": [],
   "source": [
    "### 학습 횟수 => 샘플 처음부터 끝까지 읽는 것 기준으로 횟수 지정\n",
    "EPOCHS = 150\n"
   ]
  },
  {
   "cell_type": "markdown",
   "metadata": {},
   "source": [
    "[4] 학습 <hr>\n",
    "\n",
    "-   반복횟수만큼 학습 진행\n"
   ]
  },
  {
   "cell_type": "code",
   "execution_count": 19,
   "metadata": {},
   "outputs": [
    {
     "name": "stdout",
     "output_type": "stream",
     "text": [
      "[0] Loss => 0.6436548233032227\n",
      "[1] Loss => 0.568743884563446\n",
      "[2] Loss => 0.5088310837745667\n",
      "[3] Loss => 0.46272793412208557\n",
      "[4] Loss => 0.42852097749710083\n",
      "[5] Loss => 0.40395909547805786\n",
      "[6] Loss => 0.3868143856525421\n",
      "[7] Loss => 0.37511226534843445\n",
      "[8] Loss => 0.36722856760025024\n",
      "[9] Loss => 0.3618958294391632\n",
      "[10] Loss => 0.35816213488578796\n",
      "[11] Loss => 0.3553341031074524\n",
      "[12] Loss => 0.3529203236103058\n",
      "[13] Loss => 0.3505823314189911\n",
      "[14] Loss => 0.34809595346450806\n",
      "[15] Loss => 0.3453214168548584\n",
      "[16] Loss => 0.34218093752861023\n",
      "[17] Loss => 0.3386420011520386\n",
      "[18] Loss => 0.3347057104110718\n",
      "[19] Loss => 0.3303973376750946\n",
      "[20] Loss => 0.3257598280906677\n",
      "[21] Loss => 0.32084921002388\n",
      "[22] Loss => 0.31573012471199036\n",
      "[23] Loss => 0.31047311425209045\n",
      "[24] Loss => 0.3051517605781555\n",
      "[25] Loss => 0.2998400926589966\n",
      "[26] Loss => 0.2946104109287262\n",
      "[27] Loss => 0.28953027725219727\n",
      "[28] Loss => 0.2846601605415344\n",
      "[29] Loss => 0.2800509035587311\n",
      "[30] Loss => 0.27574071288108826\n",
      "[31] Loss => 0.2717534899711609\n",
      "[32] Loss => 0.26809683442115784\n",
      "[33] Loss => 0.264761745929718\n",
      "[34] Loss => 0.26172327995300293\n",
      "[35] Loss => 0.2589426338672638\n",
      "[36] Loss => 0.25637078285217285\n",
      "[37] Loss => 0.25395306944847107\n",
      "[38] Loss => 0.251634418964386\n",
      "[39] Loss => 0.24936443567276\n",
      "[40] Loss => 0.2471015900373459\n",
      "[41] Loss => 0.24481640756130219\n",
      "[42] Loss => 0.2424924522638321\n",
      "[43] Loss => 0.24012628197669983\n",
      "[44] Loss => 0.2377254217863083\n",
      "[45] Loss => 0.23530566692352295\n",
      "[46] Loss => 0.23288774490356445\n",
      "[47] Loss => 0.23049403727054596\n",
      "[48] Loss => 0.22814592719078064\n",
      "[49] Loss => 0.22586123645305634\n",
      "[50] Loss => 0.22365325689315796\n",
      "[51] Loss => 0.22152994573116302\n",
      "[52] Loss => 0.21949419379234314\n",
      "[53] Loss => 0.21754421293735504\n",
      "[54] Loss => 0.21567481756210327\n",
      "[55] Loss => 0.2138783484697342\n",
      "[56] Loss => 0.2121458798646927\n",
      "[57] Loss => 0.21046820282936096\n",
      "[58] Loss => 0.20883676409721375\n",
      "[59] Loss => 0.2072441577911377\n",
      "[60] Loss => 0.2056845724582672\n",
      "[61] Loss => 0.20415402948856354\n",
      "[62] Loss => 0.20265017449855804\n",
      "[63] Loss => 0.2011721283197403\n",
      "[64] Loss => 0.19972030818462372\n",
      "[65] Loss => 0.1982959657907486\n",
      "[66] Loss => 0.19690078496932983\n",
      "[67] Loss => 0.19553659856319427\n",
      "[68] Loss => 0.1942051202058792\n",
      "[69] Loss => 0.19290757179260254\n",
      "[70] Loss => 0.19164462387561798\n",
      "[71] Loss => 0.19041641056537628\n",
      "[72] Loss => 0.1892223209142685\n",
      "[73] Loss => 0.18806126713752747\n",
      "[74] Loss => 0.18693174421787262\n",
      "[75] Loss => 0.1858319193124771\n",
      "[76] Loss => 0.1847599595785141\n",
      "[77] Loss => 0.1837139129638672\n",
      "[78] Loss => 0.1826920509338379\n",
      "[79] Loss => 0.18169286847114563\n",
      "[80] Loss => 0.18071508407592773\n",
      "[81] Loss => 0.17975777387619019\n",
      "[82] Loss => 0.17882028222084045\n",
      "[83] Loss => 0.17790210247039795\n",
      "[84] Loss => 0.17700296640396118\n",
      "[85] Loss => 0.1761227548122406\n",
      "[86] Loss => 0.1752612590789795\n",
      "[87] Loss => 0.17441841959953308\n",
      "[88] Loss => 0.17359407246112823\n",
      "[89] Loss => 0.17278794944286346\n",
      "[90] Loss => 0.1719997376203537\n",
      "[91] Loss => 0.1712290346622467\n",
      "[92] Loss => 0.17047539353370667\n",
      "[93] Loss => 0.16973823308944702\n",
      "[94] Loss => 0.169017031788826\n",
      "[95] Loss => 0.168311208486557\n",
      "[96] Loss => 0.1676202118396759\n",
      "[97] Loss => 0.1669434905052185\n",
      "[98] Loss => 0.1662805825471878\n",
      "[99] Loss => 0.1656310260295868\n",
      "[100] Loss => 0.16499443352222443\n",
      "[101] Loss => 0.16437038779258728\n",
      "[102] Loss => 0.16375863552093506\n",
      "[103] Loss => 0.16315889358520508\n",
      "[104] Loss => 0.16257081925868988\n",
      "[105] Loss => 0.16199420392513275\n",
      "[106] Loss => 0.1614288091659546\n",
      "[107] Loss => 0.1608743518590927\n",
      "[108] Loss => 0.1603306382894516\n",
      "[109] Loss => 0.15979737043380737\n",
      "[110] Loss => 0.15927428007125854\n",
      "[111] Loss => 0.158761128783226\n",
      "[112] Loss => 0.1582576483488083\n",
      "[113] Loss => 0.15776358544826508\n",
      "[114] Loss => 0.15727867186069489\n",
      "[115] Loss => 0.15680266916751862\n",
      "[116] Loss => 0.15633535385131836\n",
      "[117] Loss => 0.15587642788887024\n",
      "[118] Loss => 0.15542574226856232\n",
      "[119] Loss => 0.15498307347297668\n",
      "[120] Loss => 0.15454819798469543\n",
      "[121] Loss => 0.15412095189094543\n",
      "[122] Loss => 0.15370114147663116\n",
      "[123] Loss => 0.15328863263130188\n",
      "[124] Loss => 0.15288320183753967\n",
      "[125] Loss => 0.15248475968837738\n",
      "[126] Loss => 0.1520930975675583\n",
      "[127] Loss => 0.15170809626579285\n",
      "[128] Loss => 0.15132956206798553\n",
      "[129] Loss => 0.1509573757648468\n",
      "[130] Loss => 0.15059137344360352\n",
      "[131] Loss => 0.15023145079612732\n",
      "[132] Loss => 0.14987744390964508\n",
      "[133] Loss => 0.14952920377254486\n",
      "[134] Loss => 0.14918658137321472\n",
      "[135] Loss => 0.14884953200817108\n",
      "[136] Loss => 0.14851787686347961\n",
      "[137] Loss => 0.1481914520263672\n",
      "[138] Loss => 0.14787021279335022\n",
      "[139] Loss => 0.14755402505397797\n",
      "[140] Loss => 0.14724275469779968\n",
      "[141] Loss => 0.1469363272190094\n",
      "[142] Loss => 0.14663463830947876\n",
      "[143] Loss => 0.1463375687599182\n",
      "[144] Loss => 0.1460450142621994\n",
      "[145] Loss => 0.14575690031051636\n",
      "[146] Loss => 0.14547313749790192\n",
      "[147] Loss => 0.14519362151622772\n",
      "[148] Loss => 0.1449182629585266\n",
      "[149] Loss => 0.14464697241783142\n",
      "[150] Loss => 0.14437969028949738\n"
     ]
    }
   ],
   "source": [
    "loss_accuracy = [[], []]\n",
    "\n",
    "for ep in range(EPOCHS + 1):\n",
    "    # 학습\n",
    "    pre_y = model(X_train)\n",
    "\n",
    "    # 분류값 변환\n",
    "    pre_y2 = F.sigmoid(pre_y)\n",
    "\n",
    "    # 오차 즉 손실 계산\n",
    "    loss = F.binary_cross_entropy(pre_y2, y_train)\n",
    "    loss_accuracy[0].append(loss.item())\n",
    "    print(f\"[{ep}] Loss => {loss}\")\n",
    "\n",
    "    # W, b 업데이트\n",
    "    optimizer.zero_grad()\n",
    "    loss.backward()  # 손실함수 계산값으로 미분 진행하여 새로운 W, b 계산\n",
    "    optimizer.step()\n",
    "\n",
    "    # 정확도 계산 => 예측값을 0과 1로 변환 ==> 정답과 비교\n",
    "    train_accuracy = ((y_train == (pre_y2 >= 0.5)).sum()) / y_train.shape[0]\n",
    "    loss_accuracy[1].append(train_accuracy.item())\n"
   ]
  },
  {
   "cell_type": "code",
   "execution_count": 21,
   "metadata": {},
   "outputs": [
    {
     "data": {
      "image/png": "[encoded data removed]",
      "text/plain": [
       "<Figure size 640x480 with 2 Axes>"
      ]
     },
     "metadata": {},
     "output_type": "display_data"
    }
   ],
   "source": [
    "## 손실과 정확도 시각화\n",
    "import matplotlib.pyplot as plt\n",
    "\n",
    "fig, ax1 = plt.subplots()\n",
    "ax1.plot(loss_accuracy[0], label=\"Loss\")\n",
    "ax1.legend(loc=\"upper left\")\n",
    "ax1.set_xlabel(\"Epochs\")\n",
    "ax1.set_ylabel(\"Loss\")\n",
    "ax2 = ax1.twinx()\n",
    "ax2.plot(loss_accuracy[1], label=\"Accuracy\", color=\"red\")\n",
    "ax2.legend(loc=\"upper right\")\n",
    "ax2.set_ylabel(\"Accuracy\")\n",
    "plt.show()\n"
   ]
  },
  {
   "cell_type": "code",
   "execution_count": null,
   "metadata": {},
   "outputs": [],
   "source": []
  }
 ],
 "metadata": {
  "kernelspec": {
   "display_name": "Torch_PY38",
   "language": "python",
   "name": "python3"
  },
  "language_info": {
   "codemirror_mode": {
    "name": "ipython",
    "version": 3
   },
   "file_extension": ".py",
   "mimetype": "text/x-python",
   "name": "python",
   "nbconvert_exporter": "python",
   "pygments_lexer": "ipython3",
   "version": "3.8.18"
  }
 },
 "nbformat": 4,
 "nbformat_minor": 2
}
