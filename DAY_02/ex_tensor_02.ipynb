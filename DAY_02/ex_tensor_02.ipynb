{
 "cells": [
  {
   "cell_type": "markdown",
   "metadata": {},
   "source": [
    "### Tensor 원소/요소 접근\n",
    "\n",
    "-   인덱싱과 슬라이싱\n"
   ]
  },
  {
   "cell_type": "code",
   "execution_count": 5,
   "metadata": {},
   "outputs": [],
   "source": [
    "# 모듈 로딩\n",
    "import torch\n"
   ]
  },
  {
   "cell_type": "code",
   "execution_count": 6,
   "metadata": {},
   "outputs": [
    {
     "name": "stderr",
     "output_type": "stream",
     "text": [
      "C:\\Users\\KDP-25\\AppData\\Local\\Temp\\ipykernel_6264\\3091330223.py:2: DeprecationWarning: an integer is required (got type float).  Implicit conversion to integers using __int__ is deprecated, and may be removed in a future version of Python.\n",
      "  points = torch.tensor([[4.,2.],[5.,3.],[6.,4.]], dtype=torch.int16)\n"
     ]
    }
   ],
   "source": [
    "# 텐서 생성\n",
    "points = torch.tensor([[4.,2.],[5.,3.],[6.,4.]], dtype=torch.int16)\n",
    "# print(points)\n"
   ]
  },
  {
   "cell_type": "code",
   "execution_count": 7,
   "metadata": {},
   "outputs": [
    {
     "name": "stdout",
     "output_type": "stream",
     "text": [
      "tensor([[4, 2],\n",
      "        [5, 3],\n",
      "        [6, 4]], dtype=torch.int16)\n"
     ]
    }
   ],
   "source": [
    "print(points[:])\n"
   ]
  },
  {
   "cell_type": "code",
   "execution_count": 8,
   "metadata": {},
   "outputs": [
    {
     "name": "stdout",
     "output_type": "stream",
     "text": [
      "tensor(3, dtype=torch.int16)\n",
      "tensor(4, dtype=torch.int16) tensor(4, dtype=torch.int16)\n"
     ]
    }
   ],
   "source": [
    "# 텐서의 원소 1개 접근\n",
    "# 데이터 3 추출\n",
    "print(points[1,1])\n",
    "\n",
    "# 마지막 데이터 4 추출\n",
    "print(points[2, 1], points[-1,-1])\n"
   ]
  },
  {
   "cell_type": "code",
   "execution_count": 9,
   "metadata": {},
   "outputs": [
    {
     "name": "stdout",
     "output_type": "stream",
     "text": [
      "tensor([[5, 3],\n",
      "        [6, 4]], dtype=torch.int16)\n"
     ]
    }
   ],
   "source": [
    "# 1번 행부터 나머지 모든 행 추출\n",
    "print(points[1:])\n"
   ]
  },
  {
   "cell_type": "code",
   "execution_count": null,
   "metadata": {},
   "outputs": [],
   "source": []
  }
 ],
 "metadata": {
  "kernelspec": {
   "display_name": "Torch_PY38",
   "language": "python",
   "name": "python3"
  },
  "language_info": {
   "codemirror_mode": {
    "name": "ipython",
    "version": 3
   },
   "file_extension": ".py",
   "mimetype": "text/x-python",
   "name": "python",
   "nbconvert_exporter": "python",
   "pygments_lexer": "ipython3",
   "version": "3.8.18"
  }
 },
 "nbformat": 4,
 "nbformat_minor": 2
}
