{
 "cells": [
  {
   "cell_type": "markdown",
   "metadata": {},
   "source": [
    "### 텐서(Tensor) 살펴보기\n",
    "\n",
    "-   Pytorch에서 데이터 저장 자료형\n",
    "-   모델 입력(input), 출력(output) 데이터 형태\n"
   ]
  },
  {
   "cell_type": "markdown",
   "metadata": {},
   "source": [
    "-   모듈 로딩\n"
   ]
  },
  {
   "cell_type": "code",
   "execution_count": 1,
   "metadata": {},
   "outputs": [],
   "source": [
    "import torch\n"
   ]
  },
  {
   "cell_type": "markdown",
   "metadata": {},
   "source": [
    "-   Tensor 속성 관련 함수\n"
   ]
  },
  {
   "cell_type": "code",
   "execution_count": 2,
   "metadata": {},
   "outputs": [],
   "source": [
    "# 매개변수 : 텐서 인스턴스, 텐서 변수명\n",
    "def printAttribute(tensor: torch, name: str):\n",
    "    print(f'[ Tensor {name}\\'s Attribute ]')\n",
    "    print(f' - tensor.shape  : {tensor.shape}')\n",
    "    print(f' - tensor.ndim   : {tensor.ndim}D')\n",
    "    print(f' - tensor.dtype  : {tensor.dtype}')\n",
    "    print(f' - tensor.device : {tensor.device}')\n",
    "    print(f' - tensor.requires_grad : {tensor.requires_grad}')\n",
    "    print(f' - tensor.data\\n{tensor.data}')\n"
   ]
  },
  {
   "cell_type": "markdown",
   "metadata": {},
   "source": [
    "-   Tensor 생성 (1) 특정 데이터 타입의 텐서 생성\n",
    "    -   타입별 텐서 클래스 생성자 활용\n",
    "    -   예) IntTensor(), FloatTensor(), BoolTenser()\n"
   ]
  },
  {
   "cell_type": "code",
   "execution_count": 3,
   "metadata": {},
   "outputs": [
    {
     "name": "stderr",
     "output_type": "stream",
     "text": [
      "C:\\Users\\KDP-25\\AppData\\Local\\Temp\\ipykernel_5716\\1414213527.py:3: DeprecationWarning: an integer is required (got type float).  Implicit conversion to integers using __int__ is deprecated, and may be removed in a future version of Python.\n",
      "  t2 = torch.IntTensor([10., 20.])\n"
     ]
    }
   ],
   "source": [
    "# 정수 타입 텐서 생성\n",
    "t1 = torch.IntTensor(10)\n",
    "t2 = torch.IntTensor([10., 20.])\n",
    "t3 = torch.BoolTensor([1, 1, 0, -1])\n",
    "t4 = torch.FloatTensor([10, 20])\n"
   ]
  },
  {
   "cell_type": "code",
   "execution_count": 4,
   "metadata": {},
   "outputs": [
    {
     "name": "stdout",
     "output_type": "stream",
     "text": [
      "[ Tensor t1's Attribute ]\n",
      " - tensor.shape  : torch.Size([10])\n",
      " - tensor.ndim   : 1D\n",
      " - tensor.dtype  : torch.int32\n",
      " - tensor.device : cpu\n",
      " - tensor.requires_grad : False\n",
      " - tensor.data\n",
      "tensor([1677726064,       1358,          0,          0,          0,          0,\n",
      "                 0,          0,          0,          0], dtype=torch.int32)\n",
      "[ Tensor t2's Attribute ]\n",
      " - tensor.shape  : torch.Size([2])\n",
      " - tensor.ndim   : 1D\n",
      " - tensor.dtype  : torch.int32\n",
      " - tensor.device : cpu\n",
      " - tensor.requires_grad : False\n",
      " - tensor.data\n",
      "tensor([10, 20], dtype=torch.int32)\n",
      "[ Tensor t3's Attribute ]\n",
      " - tensor.shape  : torch.Size([4])\n",
      " - tensor.ndim   : 1D\n",
      " - tensor.dtype  : torch.bool\n",
      " - tensor.device : cpu\n",
      " - tensor.requires_grad : False\n",
      " - tensor.data\n",
      "tensor([ True,  True, False,  True])\n",
      "[ Tensor t4's Attribute ]\n",
      " - tensor.shape  : torch.Size([2])\n",
      " - tensor.ndim   : 1D\n",
      " - tensor.dtype  : torch.float32\n",
      " - tensor.device : cpu\n",
      " - tensor.requires_grad : False\n",
      " - tensor.data\n",
      "tensor([10., 20.])\n"
     ]
    }
   ],
   "source": [
    "printAttribute(t1, 't1')\n",
    "printAttribute(t2, 't2')\n",
    "printAttribute(t3, 't3')\n",
    "printAttribute(t4, 't4')\n"
   ]
  },
  {
   "cell_type": "markdown",
   "metadata": {},
   "source": [
    "-   Tensor 생성 (2) 원하는 값으로 텐서 생성 => torch.tensor()\n"
   ]
  },
  {
   "cell_type": "code",
   "execution_count": 5,
   "metadata": {},
   "outputs": [
    {
     "name": "stdout",
     "output_type": "stream",
     "text": [
      "[ Tensor t1's Attribute ]\n",
      " - tensor.shape  : torch.Size([])\n",
      " - tensor.ndim   : 0D\n",
      " - tensor.dtype  : torch.int64\n",
      " - tensor.device : cpu\n",
      " - tensor.requires_grad : False\n",
      " - tensor.data\n",
      "10\n"
     ]
    }
   ],
   "source": [
    "t1 = torch.tensor(10)  # scalar 데이터, int64\n",
    "printAttribute(t1, 't1')\n"
   ]
  },
  {
   "cell_type": "code",
   "execution_count": 6,
   "metadata": {},
   "outputs": [
    {
     "name": "stdout",
     "output_type": "stream",
     "text": [
      "[ Tensor t1's Attribute ]\n",
      " - tensor.shape  : torch.Size([])\n",
      " - tensor.ndim   : 0D\n",
      " - tensor.dtype  : torch.float32\n",
      " - tensor.device : cpu\n",
      " - tensor.requires_grad : False\n",
      " - tensor.data\n",
      "10.0\n"
     ]
    }
   ],
   "source": [
    "t1 = torch.tensor(10.)  # scalar 데이터, float32\n",
    "printAttribute(t1, 't1')\n"
   ]
  },
  {
   "cell_type": "code",
   "execution_count": 7,
   "metadata": {},
   "outputs": [
    {
     "name": "stdout",
     "output_type": "stream",
     "text": [
      "[ Tensor t1's Attribute ]\n",
      " - tensor.shape  : torch.Size([])\n",
      " - tensor.ndim   : 0D\n",
      " - tensor.dtype  : torch.int32\n",
      " - tensor.device : cpu\n",
      " - tensor.requires_grad : False\n",
      " - tensor.data\n",
      "10\n"
     ]
    },
    {
     "name": "stderr",
     "output_type": "stream",
     "text": [
      "C:\\Users\\KDP-25\\AppData\\Local\\Temp\\ipykernel_5716\\564062794.py:1: DeprecationWarning: an integer is required (got type float).  Implicit conversion to integers using __int__ is deprecated, and may be removed in a future version of Python.\n",
      "  t1 = torch.tensor(10., dtype=torch.int32)  # scalar 데이터, int32\n"
     ]
    }
   ],
   "source": [
    "t1 = torch.tensor(10., dtype=torch.int32)  # scalar 데이터, int32\n",
    "printAttribute(t1, 't1')\n"
   ]
  },
  {
   "cell_type": "code",
   "execution_count": 8,
   "metadata": {},
   "outputs": [
    {
     "name": "stdout",
     "output_type": "stream",
     "text": [
      "[ Tensor t1's Attribute ]\n",
      " - tensor.shape  : torch.Size([])\n",
      " - tensor.ndim   : 0D\n",
      " - tensor.dtype  : torch.bool\n",
      " - tensor.device : cpu\n",
      " - tensor.requires_grad : False\n",
      " - tensor.data\n",
      "True\n"
     ]
    }
   ],
   "source": [
    "# dtype 매개변수 : 원하는 데이터 타입 지정 가능\n",
    "t1 = torch.tensor(10., dtype=torch.bool)  # scalar 데이터, bool\n",
    "printAttribute(t1, 't1')\n"
   ]
  },
  {
   "cell_type": "code",
   "execution_count": 9,
   "metadata": {},
   "outputs": [
    {
     "name": "stdout",
     "output_type": "stream",
     "text": [
      "[ Tensor t1's Attribute ]\n",
      " - tensor.shape  : torch.Size([3])\n",
      " - tensor.ndim   : 1D\n",
      " - tensor.dtype  : torch.int8\n",
      " - tensor.device : cpu\n",
      " - tensor.requires_grad : False\n",
      " - tensor.data\n",
      "tensor([1, 2, 3], dtype=torch.int8)\n"
     ]
    }
   ],
   "source": [
    "t1 = torch.tensor([1, 2, 3], dtype=torch.int8)  # 1D 데이터\n",
    "printAttribute(t1, 't1')\n"
   ]
  },
  {
   "cell_type": "code",
   "execution_count": 10,
   "metadata": {},
   "outputs": [
    {
     "name": "stdout",
     "output_type": "stream",
     "text": [
      "[ Tensor t1's Attribute ]\n",
      " - tensor.shape  : torch.Size([1, 3])\n",
      " - tensor.ndim   : 2D\n",
      " - tensor.dtype  : torch.int8\n",
      " - tensor.device : cpu\n",
      " - tensor.requires_grad : False\n",
      " - tensor.data\n",
      "tensor([[1, 2, 3]], dtype=torch.int8)\n"
     ]
    }
   ],
   "source": [
    "t1 = torch.tensor([[1, 2, 3]], dtype=torch.int8)  # 2D 데이터\n",
    "printAttribute(t1, 't1')\n"
   ]
  },
  {
   "cell_type": "markdown",
   "metadata": {},
   "source": [
    "-   Tensor 생성 (3) 특정 값으로 채운 텐서 => 0, 1 등의 값\n"
   ]
  },
  {
   "cell_type": "code",
   "execution_count": 11,
   "metadata": {},
   "outputs": [
    {
     "name": "stdout",
     "output_type": "stream",
     "text": [
      "[ Tensor t1's Attribute ]\n",
      " - tensor.shape  : torch.Size([5, 5])\n",
      " - tensor.ndim   : 2D\n",
      " - tensor.dtype  : torch.float32\n",
      " - tensor.device : cpu\n",
      " - tensor.requires_grad : False\n",
      " - tensor.data\n",
      "tensor([[0., 0., 0., 0., 0.],\n",
      "        [0., 0., 0., 0., 0.],\n",
      "        [0., 0., 0., 0., 0.],\n",
      "        [0., 0., 0., 0., 0.],\n",
      "        [0., 0., 0., 0., 0.]])\n"
     ]
    }
   ],
   "source": [
    "# 0으로 채운 텐서\n",
    "t1 = torch.zeros((5, 5))\n",
    "printAttribute(t1, 't1')\n"
   ]
  },
  {
   "cell_type": "code",
   "execution_count": 12,
   "metadata": {},
   "outputs": [
    {
     "name": "stdout",
     "output_type": "stream",
     "text": [
      "[ Tensor t1's Attribute ]\n",
      " - tensor.shape  : torch.Size([2, 4])\n",
      " - tensor.ndim   : 2D\n",
      " - tensor.dtype  : torch.int8\n",
      " - tensor.device : cpu\n",
      " - tensor.requires_grad : False\n",
      " - tensor.data\n",
      "tensor([[1, 1, 1, 1],\n",
      "        [1, 1, 1, 1]], dtype=torch.int8)\n"
     ]
    }
   ],
   "source": [
    "# 1으로 채운 텐서\n",
    "t1 = torch.ones((2, 4), dtype=torch.int8)\n",
    "printAttribute(t1, 't1')\n"
   ]
  },
  {
   "cell_type": "code",
   "execution_count": 13,
   "metadata": {},
   "outputs": [
    {
     "name": "stdout",
     "output_type": "stream",
     "text": [
      "torch.Size([2, 7])\n"
     ]
    }
   ],
   "source": [
    "# 이미 존재하는 텐서와 동일한 shape으로 잡고 값 채우기 => zeros_like(), ones_like\n",
    "img = torch.tensor([[1,2,3,4,5,6,7], [2,3,4,5,6,7, 8]])\n",
    "print(img.shape)\n"
   ]
  },
  {
   "cell_type": "code",
   "execution_count": 14,
   "metadata": {},
   "outputs": [
    {
     "name": "stdout",
     "output_type": "stream",
     "text": [
      "tensor([[0, 0, 0, 0, 0, 0, 0],\n",
      "        [0, 0, 0, 0, 0, 0, 0]])\n"
     ]
    }
   ],
   "source": [
    "zero_img = torch.zeros_like(img)\n",
    "print(zero_img)\n"
   ]
  },
  {
   "cell_type": "code",
   "execution_count": 15,
   "metadata": {},
   "outputs": [
    {
     "name": "stdout",
     "output_type": "stream",
     "text": [
      "tensor([[1, 1, 1, 1, 1, 1, 1],\n",
      "        [1, 1, 1, 1, 1, 1, 1]])\n"
     ]
    }
   ],
   "source": [
    "one_img = torch.ones_like(img)\n",
    "print(one_img)\n"
   ]
  },
  {
   "cell_type": "code",
   "execution_count": 16,
   "metadata": {},
   "outputs": [
    {
     "name": "stdout",
     "output_type": "stream",
     "text": [
      "tensor([[7, 7, 7, 7, 7, 7, 7],\n",
      "        [7, 7, 7, 7, 7, 7, 7]])\n"
     ]
    }
   ],
   "source": [
    "full_img = torch.full_like(img, 7)\n",
    "print(full_img)\n"
   ]
  },
  {
   "cell_type": "code",
   "execution_count": 17,
   "metadata": {},
   "outputs": [
    {
     "name": "stdout",
     "output_type": "stream",
     "text": [
      "tensor([[1., 0., 0.],\n",
      "        [0., 1., 0.],\n",
      "        [0., 0., 1.]])\n"
     ]
    }
   ],
   "source": [
    "# 대각선 방향으로 1 채운 텐서\n",
    "t1 = torch.eye(3)\n",
    "print(t1)\n"
   ]
  },
  {
   "cell_type": "markdown",
   "metadata": {},
   "source": [
    "-   Tensor 생성 방법 (4) : 임의의 값으로 Tensor 생성 => torch.rand(), torch.randn(), torch.randint()\n"
   ]
  },
  {
   "cell_type": "code",
   "execution_count": 18,
   "metadata": {},
   "outputs": [],
   "source": [
    "# 임의의 값으로 채운 텐서\n",
    "torch.manual_seed(12)\n",
    "t1 = torch.rand(2, 3)\n",
    "t2 = torch.randn(2, 3)\n",
    "t3 = torch.randint(1, 10, (2,3))\n"
   ]
  },
  {
   "cell_type": "code",
   "execution_count": 19,
   "metadata": {},
   "outputs": [
    {
     "name": "stdout",
     "output_type": "stream",
     "text": [
      "tensor([[0.4657, 0.2328, 0.4527],\n",
      "        [0.5871, 0.4086, 0.1272]])\n"
     ]
    }
   ],
   "source": [
    "print(t1)\n"
   ]
  },
  {
   "cell_type": "code",
   "execution_count": 20,
   "metadata": {},
   "outputs": [
    {
     "name": "stdout",
     "output_type": "stream",
     "text": [
      "tensor([[ 1.5869,  1.1268, -1.2274],\n",
      "        [-0.8216, -1.7861,  0.6167]])\n"
     ]
    }
   ],
   "source": [
    "print(t2)\n"
   ]
  },
  {
   "cell_type": "code",
   "execution_count": 21,
   "metadata": {},
   "outputs": [
    {
     "name": "stdout",
     "output_type": "stream",
     "text": [
      "tensor([[8, 4, 6],\n",
      "        [2, 2, 2]])\n"
     ]
    }
   ],
   "source": [
    "print(t3)\n"
   ]
  },
  {
   "cell_type": "code",
   "execution_count": 22,
   "metadata": {},
   "outputs": [
    {
     "data": {
      "text/plain": [
       "tensor([[[-0.6958, -0.0522, -0.0351,  0.5274],\n",
       "         [-0.8227,  0.5942,  0.6618, -0.0125]],\n",
       "\n",
       "        [[ 1.4400,  0.7946,  0.8444,  1.2668],\n",
       "         [-1.0249,  1.2336,  0.8366, -2.0645]]])"
      ]
     },
     "execution_count": 22,
     "metadata": {},
     "output_type": "execute_result"
    }
   ],
   "source": [
    "t1 = torch.randn(2, 2, 4)\n",
    "t1\n"
   ]
  },
  {
   "cell_type": "markdown",
   "metadata": {},
   "source": [
    "-   Tensor 생성 방법 (5) : Ndarray 객체 활용 => torch.from_numpy(), torch/as_tensor(), tensor()\n"
   ]
  },
  {
   "cell_type": "code",
   "execution_count": 23,
   "metadata": {},
   "outputs": [
    {
     "name": "stdout",
     "output_type": "stream",
     "text": [
      "[11 22 33] <class 'numpy.ndarray'>\n"
     ]
    }
   ],
   "source": [
    "# 데이터 생성\n",
    "import numpy as np\n",
    "\n",
    "data = np.array([11, 22, 33])\n",
    "print(data, type(data))\n"
   ]
  },
  {
   "cell_type": "code",
   "execution_count": 24,
   "metadata": {},
   "outputs": [
    {
     "name": "stdout",
     "output_type": "stream",
     "text": [
      "tensor([11, 22, 33], dtype=torch.int32)\n"
     ]
    }
   ],
   "source": [
    "t1 = torch.from_numpy(data)\n",
    "print(t1)\n"
   ]
  },
  {
   "cell_type": "code",
   "execution_count": 25,
   "metadata": {},
   "outputs": [
    {
     "name": "stdout",
     "output_type": "stream",
     "text": [
      "tensor([11, 22, 33], dtype=torch.int32)\n"
     ]
    }
   ],
   "source": [
    "t2 = torch.as_tensor(data)\n",
    "print(t2)\n"
   ]
  },
  {
   "cell_type": "code",
   "execution_count": 26,
   "metadata": {},
   "outputs": [
    {
     "name": "stdout",
     "output_type": "stream",
     "text": [
      "tensor([11, 22, 33], dtype=torch.int32)\n"
     ]
    }
   ],
   "source": [
    "t3 = torch.tensor(data)\n",
    "print(t3)\n"
   ]
  },
  {
   "cell_type": "code",
   "execution_count": 27,
   "metadata": {},
   "outputs": [],
   "source": [
    "# ndarray 원소 변경\n",
    "data[0] = 100\n"
   ]
  },
  {
   "cell_type": "code",
   "execution_count": 28,
   "metadata": {},
   "outputs": [
    {
     "name": "stdout",
     "output_type": "stream",
     "text": [
      "[100  22  33]\n",
      "tensor([100,  22,  33], dtype=torch.int32)\n",
      "tensor([100,  22,  33], dtype=torch.int32)\n",
      "tensor([11, 22, 33], dtype=torch.int32)\n"
     ]
    }
   ],
   "source": [
    "# from_numpy(), as_tensor() ==> 데이터 공유\n",
    "# tensor() ==> 복사본 생성\n",
    "print(data, t1, t2, t3, sep='\\n')\n"
   ]
  },
  {
   "cell_type": "markdown",
   "metadata": {},
   "source": [
    "-   브로드캐스팅 연산\n"
   ]
  },
  {
   "cell_type": "code",
   "execution_count": 29,
   "metadata": {},
   "outputs": [
    {
     "name": "stdout",
     "output_type": "stream",
     "text": [
      "m1.shape => torch.Size([1, 2]), m2.shape => torch.Size([1])\n"
     ]
    }
   ],
   "source": [
    "m1 = torch.FloatTensor([[1, 2]])\n",
    "m2 = torch.FloatTensor([3])\n",
    "\n",
    "print(f'm1.shape => {m1.shape}, m2.shape => {m2.shape}')\n"
   ]
  },
  {
   "cell_type": "code",
   "execution_count": 30,
   "metadata": {},
   "outputs": [
    {
     "name": "stdout",
     "output_type": "stream",
     "text": [
      "m3.shape => torch.Size([1, 2])\n",
      "m3 => \n",
      "tensor([[4., 5.]])\n"
     ]
    }
   ],
   "source": [
    "m3 = m1 + m2\n",
    "print(f'm3.shape => {m3.shape}\\nm3 => \\n{m3}')\n"
   ]
  },
  {
   "cell_type": "code",
   "execution_count": 31,
   "metadata": {},
   "outputs": [
    {
     "name": "stdout",
     "output_type": "stream",
     "text": [
      "m1.shape => torch.Size([1, 2]), m2.shape => torch.Size([2, 1])\n"
     ]
    }
   ],
   "source": [
    "m1 = torch.FloatTensor([[1, 2]])\n",
    "m2 = torch.FloatTensor([[3], [4]])\n",
    "\n",
    "print(f'm1.shape => {m1.shape}, m2.shape => {m2.shape}')\n"
   ]
  },
  {
   "cell_type": "code",
   "execution_count": 32,
   "metadata": {},
   "outputs": [
    {
     "name": "stdout",
     "output_type": "stream",
     "text": [
      "m3.shape => torch.Size([2, 2])\n",
      "m3 => \n",
      "tensor([[4., 5.],\n",
      "        [5., 6.]])\n"
     ]
    }
   ],
   "source": [
    "m3 = m1 + m2\n",
    "print(f'm3.shape => {m3.shape}\\nm3 => \\n{m3}')\n"
   ]
  },
  {
   "cell_type": "code",
   "execution_count": 33,
   "metadata": {},
   "outputs": [
    {
     "name": "stdout",
     "output_type": "stream",
     "text": [
      "m3.shape => torch.Size([2, 2])\n",
      "m3 => \n",
      "tensor([[3., 6.],\n",
      "        [4., 8.]])\n",
      "m4.shape => torch.Size([2, 2])\n",
      "m4 => \n",
      "tensor([[3., 6.],\n",
      "        [4., 8.]])\n"
     ]
    }
   ],
   "source": [
    "m3 = m1 * m2\n",
    "m4 = m1.mul(m2)\n",
    "\n",
    "print(f'm3.shape => {m3.shape}\\nm3 => \\n{m3}')\n",
    "print(f'm4.shape => {m4.shape}\\nm4 => \\n{m4}')\n"
   ]
  },
  {
   "cell_type": "code",
   "execution_count": 34,
   "metadata": {},
   "outputs": [
    {
     "data": {
      "text/plain": [
       "(tensor([[4., 5.],\n",
       "         [5., 6.]]),\n",
       " tensor([[-2., -1.],\n",
       "         [-3., -2.]]),\n",
       " tensor([[3., 6.],\n",
       "         [4., 8.]]),\n",
       " tensor([[0.3333, 0.6667],\n",
       "         [0.2500, 0.5000]]))"
      ]
     },
     "execution_count": 34,
     "metadata": {},
     "output_type": "execute_result"
    }
   ],
   "source": [
    "# 원소 단위 연산 수행 메서드들\n",
    "m1.add(m2), m1.sub(m2), m1.mul(m2), m1.div(m2)\n"
   ]
  },
  {
   "cell_type": "code",
   "execution_count": 35,
   "metadata": {},
   "outputs": [
    {
     "data": {
      "text/plain": [
       "tensor([[11.]])"
      ]
     },
     "execution_count": 35,
     "metadata": {},
     "output_type": "execute_result"
    }
   ],
   "source": [
    "m1.matmul(m2)\n"
   ]
  },
  {
   "cell_type": "code",
   "execution_count": 36,
   "metadata": {},
   "outputs": [],
   "source": [
    "m1 = torch.FloatTensor([[1, 2]])\n",
    "m2 = torch.FloatTensor([[3], [4]])\n"
   ]
  },
  {
   "cell_type": "code",
   "execution_count": 37,
   "metadata": {},
   "outputs": [
    {
     "data": {
      "text/plain": [
       "tensor([[11.]])"
      ]
     },
     "execution_count": 37,
     "metadata": {},
     "output_type": "execute_result"
    }
   ],
   "source": [
    "m1.matmul(m2)\n"
   ]
  },
  {
   "cell_type": "code",
   "execution_count": 38,
   "metadata": {},
   "outputs": [
    {
     "data": {
      "text/plain": [
       "tensor([[3., 6.],\n",
       "        [4., 8.]])"
      ]
     },
     "execution_count": 38,
     "metadata": {},
     "output_type": "execute_result"
    }
   ],
   "source": [
    "m2.matmul(m1)\n"
   ]
  },
  {
   "cell_type": "code",
   "execution_count": null,
   "metadata": {},
   "outputs": [],
   "source": []
  }
 ],
 "metadata": {
  "kernelspec": {
   "display_name": "Torch_PY38",
   "language": "python",
   "name": "python3"
  },
  "language_info": {
   "codemirror_mode": {
    "name": "ipython",
    "version": 3
   },
   "file_extension": ".py",
   "mimetype": "text/x-python",
   "name": "python",
   "nbconvert_exporter": "python",
   "pygments_lexer": "ipython3",
   "version": "3.8.18"
  }
 },
 "nbformat": 4,
 "nbformat_minor": 2
}
