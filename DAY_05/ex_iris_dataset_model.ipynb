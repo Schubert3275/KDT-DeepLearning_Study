{
 "cells": [
  {
   "cell_type": "markdown",
   "metadata": {},
   "source": [
    "## Dataset & DataLoader 살펴보기\n",
    "\n",
    "-   Pytorch에서 배치 크기만큼 데이터를 조절하기 위한 메카니즘\n",
    "-   Dataset : 사용 데이터를 기반으로 사용자 정의 클래스 작성\n",
    "-   DataLoader : 지정된 Dataset에서 지정된 batch size만큼 피쳐와 타겟을 추출하여 전달\n"
   ]
  },
  {
   "cell_type": "markdown",
   "metadata": {},
   "source": [
    "### [1] 모듈 로딩 및 데이터 준비 <hr>\n"
   ]
  },
  {
   "cell_type": "code",
   "execution_count": 1,
   "metadata": {},
   "outputs": [],
   "source": [
    "### 모듈 로딩\n",
    "# import os\n",
    "# os.environ['KMP_DUPLICATE_LIB_OK']='True'\n",
    "import torch\n",
    "import torch.nn as nn\n",
    "import torch.nn.functional as F\n",
    "import torch.optim as optim\n",
    "from torch.utils.data import Dataset, DataLoader\n",
    "\n",
    "import numpy as np\n",
    "import pandas as pd\n"
   ]
  },
  {
   "cell_type": "markdown",
   "metadata": {},
   "source": [
    "### [2] 데이터셋 생성 <hr>\n"
   ]
  },
  {
   "cell_type": "markdown",
   "metadata": {},
   "source": [
    "-   [2-1] 사용자정의 데이터셋 생성\n"
   ]
  },
  {
   "cell_type": "code",
   "execution_count": 2,
   "metadata": {},
   "outputs": [
    {
     "name": "stdout",
     "output_type": "stream",
     "text": [
      "<class 'pandas.core.frame.DataFrame'>\n",
      "RangeIndex: 150 entries, 0 to 149\n",
      "Data columns (total 5 columns):\n",
      " #   Column        Non-Null Count  Dtype  \n",
      "---  ------        --------------  -----  \n",
      " 0   sepal_length  150 non-null    float64\n",
      " 1   sepal_width   150 non-null    float64\n",
      " 2   petal_length  150 non-null    float64\n",
      " 3   petal_width   150 non-null    float64\n",
      " 4   species       150 non-null    object \n",
      "dtypes: float64(4), object(1)\n",
      "memory usage: 6.0+ KB\n"
     ]
    }
   ],
   "source": [
    "### 데이터 준비\n",
    "filename = \"../data/text/iris.csv\"\n",
    "\n",
    "irisDF = pd.read_csv(filename)\n",
    "irisDF.info()\n"
   ]
  },
  {
   "cell_type": "code",
   "execution_count": 3,
   "metadata": {},
   "outputs": [
    {
     "data": {
      "text/plain": [
       "array([[5.1, 3.5, 1.4, 0.2],\n",
       "       [4.9, 3. , 1.4, 0.2]])"
      ]
     },
     "execution_count": 3,
     "metadata": {},
     "output_type": "execute_result"
    }
   ],
   "source": [
    "irisNP = np.loadtxt(filename, delimiter=\",\", skiprows=1, usecols=(0, 1, 2, 3))\n",
    "irisNP[:2]\n"
   ]
  },
  {
   "cell_type": "code",
   "execution_count": 4,
   "metadata": {},
   "outputs": [],
   "source": [
    "### [2-1] 사용자정의 DataSet 클래스\n",
    "# - 데이터의 Tensor 변환\n",
    "class DLDataset(Dataset):\n",
    "    # 초기화 콜백함수(callback function)\n",
    "    def __init__(self, x_data, y_data):\n",
    "        super().__init__()\n",
    "        # x,y 데이터 ==> ndarray\n",
    "        x_data = x_data.values if isinstance(x_data, pd.DataFrame) else x_data\n",
    "        y_data = y_data.values if isinstance(y_data, pd.DataFrame) else y_data\n",
    "\n",
    "        # ndarray ==> tensor\n",
    "        self.feature = torch.FloatTensor(x_data)\n",
    "        self.target = torch.LongTensor(y_data).squeeze()\n",
    "        print(\"[target & target SHAPE]\", self.target.shape, self.target.ndim)\n",
    "\n",
    "    # 데이터셋의 갯수 체크 콜백함수(callback function)\n",
    "    def __len__(self):\n",
    "        return self.target.shape[0]\n",
    "\n",
    "    # 특정 인덱스 데이터 + 라벨 반환 콜백함수(callback function)\n",
    "    def __getitem__(self, index):\n",
    "        return self.feature[index], self.target[index]\n"
   ]
  },
  {
   "cell_type": "markdown",
   "metadata": {},
   "source": [
    "-   [2-2] 데이터셋 인스턴스 생성\n"
   ]
  },
  {
   "cell_type": "code",
   "execution_count": 5,
   "metadata": {},
   "outputs": [
    {
     "name": "stdout",
     "output_type": "stream",
     "text": [
      "featureDF => (150, 4), 2D\n",
      "targetDF  => (150,), 1D\n"
     ]
    }
   ],
   "source": [
    "## 피쳐와 라벨로 분리\n",
    "featureDF = irisDF[irisDF.columns[:-1]]\n",
    "targetDF = irisDF[irisDF.columns[-1]]\n",
    "\n",
    "print(f\"featureDF => {featureDF.shape}, {featureDF.ndim}D\")\n",
    "print(f\"targetDF  => {targetDF.shape}, {targetDF.ndim}D\")\n"
   ]
  },
  {
   "cell_type": "code",
   "execution_count": 6,
   "metadata": {},
   "outputs": [
    {
     "name": "stdout",
     "output_type": "stream",
     "text": [
      "(150, 1) 2\n"
     ]
    }
   ],
   "source": [
    "# object 타입 타겟 ===> int 타입 타겟 변환\n",
    "from sklearn.preprocessing import LabelEncoder\n",
    "\n",
    "targetNP = LabelEncoder().fit_transform(targetDF)\n",
    "targetNP = targetNP.reshape(-1, 1)\n",
    "\n",
    "print(targetNP.shape, targetNP.ndim)\n"
   ]
  },
  {
   "cell_type": "code",
   "execution_count": 7,
   "metadata": {},
   "outputs": [
    {
     "name": "stdout",
     "output_type": "stream",
     "text": [
      "[target & target SHAPE] torch.Size([150]) 1\n"
     ]
    },
    {
     "data": {
      "text/plain": [
       "((tensor([5.1000, 3.5000, 1.4000, 0.2000]), tensor(0)),\n",
       " sepal_length    5.1\n",
       " sepal_width     3.5\n",
       " petal_length    1.4\n",
       " petal_width     0.2\n",
       " Name: 0, dtype: float64,\n",
       " 'setosa')"
      ]
     },
     "execution_count": 7,
     "metadata": {},
     "output_type": "execute_result"
    }
   ],
   "source": [
    "### ===> 데이터셋 생성 -> DF, NP\n",
    "my_dataset = DLDataset(featureDF, targetNP)\n",
    "my_dataset[0], featureDF.iloc[0], targetDF[0]\n"
   ]
  },
  {
   "cell_type": "code",
   "execution_count": 8,
   "metadata": {},
   "outputs": [
    {
     "name": "stdout",
     "output_type": "stream",
     "text": [
      "[target & target SHAPE] torch.Size([150]) 1\n"
     ]
    },
    {
     "data": {
      "text/plain": [
       "(tensor([5.1000, 3.5000, 1.4000, 0.2000]), tensor(0))"
      ]
     },
     "execution_count": 8,
     "metadata": {},
     "output_type": "execute_result"
    }
   ],
   "source": [
    "# 데이터셋 생성 -> NP, NP\n",
    "my_dataset2 = DLDataset(irisNP, targetNP)\n",
    "my_dataset2[0]\n"
   ]
  },
  {
   "cell_type": "markdown",
   "metadata": {},
   "source": [
    "-   [2-3] 학습용, 검증용 테스트용 Dataset <hr>\n"
   ]
  },
  {
   "cell_type": "code",
   "execution_count": 9,
   "metadata": {},
   "outputs": [
    {
     "name": "stdout",
     "output_type": "stream",
     "text": [
      "trainDS => 105개, validDS => 15개, testDS => 30개\n",
      "Subset 속성 =>\n",
      "indices : [42, 95, 30, 64, 52, 35, 130, 40, 82, 17, 108, 94, 68, 97, 117, 127, 41, 44, 57, 140, 149, 32, 23, 102, 16, 113, 71, 18, 67, 66, 0, 25, 101, 112, 91, 3, 59, 116, 86, 84, 106, 142, 43, 39, 26, 98, 93, 20, 87, 19, 120, 114, 7, 63, 76, 89, 36, 45, 37, 56, 58, 122, 51, 145, 24, 21, 105, 62, 15, 11, 48, 133, 88, 50, 6, 134, 111, 8, 49, 75, 69, 124, 4, 147, 80, 100, 99, 141, 47, 107, 13, 109, 129, 28, 38, 53, 121, 5, 55, 31, 73, 74, 54, 29, 12]\n",
      "dataset : <__main__.DLDataset object at 0x0000020C8F79D1F0>\n",
      "Subset 속성 =>\n",
      "indices : [22, 104, 81, 1, 103, 125, 85, 2, 96, 128, 27, 118, 77, 110, 146]\n",
      "dataset : <__main__.DLDataset object at 0x0000020C8F79D1F0>\n"
     ]
    }
   ],
   "source": [
    "### ===> 파이토치\n",
    "from torch.utils.data import random_split\n",
    "\n",
    "# 학습용, 검증용, 테스트 데이터 비율\n",
    "seed = torch.Generator().manual_seed(42)\n",
    "\n",
    "trainDS, validDS, testDS = random_split(my_dataset2, [0.7, 0.1, 0.2], generator=seed)\n",
    "\n",
    "print(\n",
    "    f\"trainDS => {len(trainDS)}개, validDS => {len(validDS)}개, testDS => {len(testDS)}개\"\n",
    ")\n",
    "\n",
    "print(f\"Subset 속성 =>\\nindices : {trainDS.indices}\\ndataset : {trainDS.dataset}\")\n",
    "print(f\"Subset 속성 =>\\nindices : {validDS.indices}\\ndataset : {validDS.dataset}\")\n"
   ]
  },
  {
   "cell_type": "markdown",
   "metadata": {},
   "source": [
    "[3] DataLoader 생성 : 학습용, 검증용, 테스트용 <hr>\n"
   ]
  },
  {
   "cell_type": "code",
   "execution_count": 10,
   "metadata": {},
   "outputs": [],
   "source": [
    "# DataLoader 생성\n",
    "# drop_last 매개변수 : 배치사이즈로 데이터셋 분리 후 남는 데이터 처리 방법 설정 [기본 : False]\n",
    "batch = 5\n",
    "trainDL = DataLoader(trainDS, batch_size=batch)\n",
    "validDL = DataLoader(validDS, batch_size=batch)\n",
    "testDL = DataLoader(testDS, batch_size=batch)\n"
   ]
  },
  {
   "cell_type": "code",
   "execution_count": 11,
   "metadata": {},
   "outputs": [
    {
     "name": "stdout",
     "output_type": "stream",
     "text": [
      "batch_size : 5\n",
      "trainDS => 105개, validDS => 15개, testDS => 30개\n",
      "trainDL => 21개, validDL => 3개, testDL => 6개\n"
     ]
    }
   ],
   "source": [
    "# Epoch당 반복 단위\n",
    "print(f\"batch_size : {batch}\")\n",
    "print(\n",
    "    f\"trainDS => {len(trainDS)}개, validDS => {len(validDS)}개, testDS => {len(testDS)}개\"\n",
    ")\n",
    "print(\n",
    "    f\"trainDL => {len(trainDL)}개, validDL => {len(validDL)}개, testDL => {len(testDL)}개\"\n",
    ")\n"
   ]
  },
  {
   "cell_type": "markdown",
   "metadata": {},
   "source": [
    "[4] Model 클래스 정의 : 입/출력 피쳐 수, 층 수, 은닉층의 노드수 <hr>\n",
    "\n",
    "-   구조 설계\n",
    "    -   입력측 : 입력 <= 피쳐 갯수, iris 4개\n",
    "    -   은닉층 : 마음대로 알아서 잘\n",
    "    -   출력측 : 출력 <= [분류] 타겟 클래스 갯수, [회귀] 1개\n"
   ]
  },
  {
   "cell_type": "code",
   "execution_count": 12,
   "metadata": {},
   "outputs": [],
   "source": [
    "# 모델 클래스 정의\n",
    "# 클래스명 : CModel\n",
    "class CModel(nn.Module):\n",
    "    # 구성요소 정의 함수\n",
    "    def __init__(self, in_, out_):\n",
    "        super().__init__()\n",
    "        self.input_layer = nn.Linear(in_, 100)\n",
    "        self.hidden_layer = nn.Linear(100, 27)\n",
    "        self.output_layer = nn.Linear(27, out_)\n",
    "        self.relu = nn.ReLU()\n",
    "\n",
    "    # 순방향 학습 진행 함수\n",
    "    def forward(self, x):\n",
    "        x = self.input_layer(x)  # W1X1+W2X2+...+WnXn+b 100개 반환\n",
    "        x = self.relu(x)  # relu() 결과 100개 반환\n",
    "        x = self.hidden_layer(x)  # W1X1+W2X2+...+WnXn+b 27개 반환\n",
    "        x = self.relu(x)  # relu() 결과 27개 반환\n",
    "        x = self.output_layer(x)  # W1X1+W2X2+...+WnXn+b out_개 반환\n",
    "        return x\n"
   ]
  },
  {
   "cell_type": "markdown",
   "metadata": {},
   "source": [
    "[5] 학습 준비 : 실행디바이스, 모델, 최적화, 손실함수, 학습횟수, 학습함수, 평가함수, 예측함수 <hr>\n"
   ]
  },
  {
   "cell_type": "code",
   "execution_count": 22,
   "metadata": {},
   "outputs": [],
   "source": [
    "# 실행 디바이스 설정\n",
    "DEVICE = \"cuda:0\" if torch.cuda.is_available() else \"cpu\"\n",
    "\n",
    "# 학습 횟수\n",
    "EPOCHS = 5000\n"
   ]
  },
  {
   "cell_type": "code",
   "execution_count": 14,
   "metadata": {},
   "outputs": [
    {
     "name": "stdout",
     "output_type": "stream",
     "text": [
      "IN: 4, OUT: 3\n",
      "CModel(\n",
      "  (input_layer): Linear(in_features=4, out_features=100, bias=True)\n",
      "  (hidden_layer): Linear(in_features=100, out_features=27, bias=True)\n",
      "  (output_layer): Linear(in_features=27, out_features=3, bias=True)\n",
      "  (relu): ReLU()\n",
      ")\n"
     ]
    }
   ],
   "source": [
    "# 모델 인스턴스\n",
    "IN, OUT = my_dataset2.feature.shape[1], len(torch.unique(my_dataset2.target))\n",
    "model = CModel(IN, OUT).to(DEVICE)\n",
    "print(f\"IN: {IN}, OUT: {OUT}\")\n",
    "print(model)\n"
   ]
  },
  {
   "cell_type": "code",
   "execution_count": 15,
   "metadata": {},
   "outputs": [],
   "source": [
    "# 손실함수\n",
    "LOSS_FN = nn.CrossEntropyLoss().to(DEVICE)\n",
    "\n",
    "# 최적화 인스턴스\n",
    "OPTIMIZER = optim.Adam(model.parameters())\n"
   ]
  },
  {
   "cell_type": "markdown",
   "metadata": {},
   "source": [
    "-   학습 및 검증관련 함수 정의\n"
   ]
  },
  {
   "cell_type": "code",
   "execution_count": 16,
   "metadata": {},
   "outputs": [],
   "source": [
    "import torchmetrics.functional as metrics\n"
   ]
  },
  {
   "cell_type": "code",
   "execution_count": 17,
   "metadata": {},
   "outputs": [],
   "source": [
    "### ===> 학습 진행함수\n",
    "def training():\n",
    "    # 학습모드 => 정규화, 경사하강법, 드랍아웃 등의 기능을 활성화\n",
    "    model.train()\n",
    "\n",
    "    # 배치크기만큼 학습 진행 및 저장\n",
    "    train_loss = []\n",
    "    for cnt, (feature, target) in enumerate(trainDL):\n",
    "        # 배치크가만큼의 학습 데이터 준비\n",
    "        feature, target = feature.to(DEVICE), target.to(DEVICE)\n",
    "\n",
    "        # 학습\n",
    "        pre_target = model(feature)\n",
    "        # print(f'pre_target => {pre_target.shape}, {pre_target.ndim}D')\n",
    "        # print(f'target     => {target.shape}, {target.ndim}D')\n",
    "\n",
    "        # 손실계산\n",
    "        loss = LOSS_FN(pre_target, target)\n",
    "        train_loss.append(loss.item())\n",
    "\n",
    "        # W,b 업데이트\n",
    "        OPTIMIZER.zero_grad()\n",
    "        loss.backward()\n",
    "        OPTIMIZER.step()\n",
    "\n",
    "        # 배치 단위 학습 진행 메세지 출력\n",
    "        # print(f\"[Train {cnt} batch Loss] ==> {loss.item():.4f}\")\n",
    "\n",
    "    # 에포크 단위 학습 진행 메세지 출력\n",
    "    acc = metrics.accuracy(pre_target, target, task=\"multiclass\", num_classes=OUT)\n",
    "    print(f\"[Train loss] ==> {loss} [Train Accuracy] ==> {acc}\")\n",
    "\n",
    "    return train_loss\n"
   ]
  },
  {
   "cell_type": "code",
   "execution_count": 24,
   "metadata": {},
   "outputs": [],
   "source": [
    "### ===> 검증 및 평가 진행함수\n",
    "# 매개변수 dataLoader : 검증 또는 테스트 데이터셋에 대한 Loader\n",
    "\n",
    "\n",
    "def testing(dataLoader):\n",
    "    # 추론모드 => 정규화, 경사하강법, 드랍아웃 등의 기능을 비활성화\n",
    "    model.eval()\n",
    "\n",
    "    with torch.no_grad():\n",
    "        # 배치크기만큼 학습 진행 및 저장\n",
    "        val_loss = []\n",
    "        for cnt, (feature, target) in enumerate(dataLoader):\n",
    "            # 배치크가만큼의 학습 데이터 준비\n",
    "            feature, target = feature.to(DEVICE), target.to(DEVICE)\n",
    "\n",
    "            # 학습\n",
    "            pre_target = model(feature)\n",
    "\n",
    "            # 손실계산\n",
    "            loss = LOSS_FN(pre_target, target)\n",
    "            val_loss.append(loss.item())\n",
    "\n",
    "        # 에포크 단위 학습 진행 메세지 출력\n",
    "        acc = metrics.accuracy(pre_target, target, task=\"multiclass\", num_classes=OUT)\n",
    "        print(f\"[Valid loss] ==> {loss} [Valid Accuracy] ==> {acc}\")\n",
    "\n",
    "        return val_loss, acc.item()\n"
   ]
  },
  {
   "cell_type": "markdown",
   "metadata": {},
   "source": [
    "[6] 학습 진행 <hr>\n"
   ]
  },
  {
   "cell_type": "code",
   "execution_count": 25,
   "metadata": {},
   "outputs": [
    {
     "name": "stdout",
     "output_type": "stream",
     "text": [
      "[Train loss] ==> 0.0 [Train Accuracy] ==> 1.0\n",
      "[Valid loss] ==> 2.8610207891688333e-07 [Valid Accuracy] ==> 1.0\n",
      "[ 0/5000] TRAIN 2.2706529989591218e-09, VALID 9.53673596389611e-08\n",
      "\n",
      "[Train loss] ==> 0.0 [Train Accuracy] ==> 1.0\n",
      "[Valid loss] ==> 1.4305109630186053e-07 [Valid Accuracy] ==> 1.0\n",
      "[ 1/5000] TRAIN 2.2706529989591218e-09, VALID 4.768369876728684e-08\n",
      "\n",
      "[Train loss] ==> 0.0 [Train Accuracy] ==> 1.0\n",
      "[Valid loss] ==> 2.8610207891688333e-07 [Valid Accuracy] ==> 1.0\n",
      "[ 2/5000] TRAIN 2.2706529989591218e-09, VALID 9.53673596389611e-08\n",
      "\n",
      "[Train loss] ==> 0.0 [Train Accuracy] ==> 1.0\n",
      "[Valid loss] ==> 1.4305109630186053e-07 [Valid Accuracy] ==> 1.0\n",
      "[ 3/5000] TRAIN 2.2706529989591218e-09, VALID 4.768369876728684e-08\n",
      "\n",
      "[Train loss] ==> 0.0 [Train Accuracy] ==> 1.0\n",
      "[Valid loss] ==> 2.8610207891688333e-07 [Valid Accuracy] ==> 1.0\n",
      "[ 4/5000] TRAIN 2.2706529989591218e-09, VALID 9.53673596389611e-08\n",
      "\n",
      "[Train loss] ==> 0.0 [Train Accuracy] ==> 1.0\n",
      "[Valid loss] ==> 1.6689293147464923e-07 [Valid Accuracy] ==> 1.0\n",
      "[ 5/5000] TRAIN 2.2706529989591218e-09, VALID 5.563097715821641e-08\n",
      "\n",
      "[Train loss] ==> 0.0 [Train Accuracy] ==> 1.0\n",
      "[Valid loss] ==> 2.8610207891688333e-07 [Valid Accuracy] ==> 1.0\n",
      "[ 6/5000] TRAIN 2.2706529989591218e-09, VALID 9.53673596389611e-08\n",
      "\n",
      "[Train loss] ==> 0.0 [Train Accuracy] ==> 1.0\n",
      "[Valid loss] ==> 1.6689293147464923e-07 [Valid Accuracy] ==> 1.0\n",
      "[ 7/5000] TRAIN 2.2706529989591218e-09, VALID 5.563097715821641e-08\n",
      "\n",
      "[Train loss] ==> 0.0 [Train Accuracy] ==> 1.0\n",
      "[Valid loss] ==> 2.622602437440946e-07 [Valid Accuracy] ==> 1.0\n",
      "[ 8/5000] TRAIN 2.2706529989591218e-09, VALID 8.742008124803154e-08\n",
      "\n",
      "[Train loss] ==> 0.0 [Train Accuracy] ==> 1.0\n",
      "[Valid loss] ==> 1.6689293147464923e-07 [Valid Accuracy] ==> 1.0\n",
      "[ 9/5000] TRAIN 2.2706529989591218e-09, VALID 5.563097715821641e-08\n",
      "\n",
      "[Train loss] ==> 0.0 [Train Accuracy] ==> 1.0\n",
      "[Valid loss] ==> 2.622602437440946e-07 [Valid Accuracy] ==> 1.0\n",
      "[10/5000] TRAIN 2.2706529989591218e-09, VALID 8.742008124803154e-08\n",
      "\n",
      "[Train loss] ==> 0.0 [Train Accuracy] ==> 1.0\n",
      "[Valid loss] ==> 1.6689293147464923e-07 [Valid Accuracy] ==> 1.0\n",
      "[11/5000] TRAIN 2.2706529989591218e-09, VALID 5.563097715821641e-08\n",
      "\n",
      "[Train loss] ==> 0.0 [Train Accuracy] ==> 1.0\n",
      "[Valid loss] ==> 2.3841843699301535e-07 [Valid Accuracy] ==> 1.0\n",
      "[12/5000] TRAIN 2.2706529989591218e-09, VALID 7.947281233100512e-08\n",
      "\n",
      "[Train loss] ==> 0.0 [Train Accuracy] ==> 1.0\n",
      "[Valid loss] ==> 1.6689293147464923e-07 [Valid Accuracy] ==> 1.0\n",
      "[13/5000] TRAIN 2.2706529989591218e-09, VALID 5.563097715821641e-08\n",
      "\n",
      "[Train loss] ==> 0.0 [Train Accuracy] ==> 1.0\n",
      "[Valid loss] ==> 2.3841843699301535e-07 [Valid Accuracy] ==> 1.0\n",
      "[14/5000] TRAIN 2.2706529989591218e-09, VALID 7.947281233100512e-08\n",
      "\n",
      "[Train loss] ==> 0.0 [Train Accuracy] ==> 1.0\n",
      "[Valid loss] ==> 1.6689293147464923e-07 [Valid Accuracy] ==> 1.0\n",
      "[15/5000] TRAIN 2.2706529989591218e-09, VALID 5.563097715821641e-08\n",
      "\n",
      "[Train loss] ==> 0.0 [Train Accuracy] ==> 1.0\n",
      "[Valid loss] ==> 2.1457660182022664e-07 [Valid Accuracy] ==> 1.0\n",
      "[16/5000] TRAIN 2.2706529989591218e-09, VALID 7.152553394007555e-08\n",
      "\n",
      "[Train loss] ==> 0.0 [Train Accuracy] ==> 1.0\n",
      "[Valid loss] ==> 1.6689293147464923e-07 [Valid Accuracy] ==> 1.0\n",
      "[17/5000] TRAIN 2.2706529989591218e-09, VALID 5.563097715821641e-08\n",
      "\n",
      "[Train loss] ==> 0.0 [Train Accuracy] ==> 1.0\n",
      "[Valid loss] ==> 1.9073476664743794e-07 [Valid Accuracy] ==> 1.0\n",
      "[18/5000] TRAIN 2.2706529989591218e-09, VALID 6.357825554914598e-08\n",
      "\n",
      "[Train loss] ==> 0.0 [Train Accuracy] ==> 1.0\n",
      "[Valid loss] ==> 1.6689293147464923e-07 [Valid Accuracy] ==> 1.0\n",
      "[19/5000] TRAIN 2.2706529989591218e-09, VALID 5.563097715821641e-08\n",
      "\n",
      "[Train loss] ==> 0.0 [Train Accuracy] ==> 1.0\n",
      "[Valid loss] ==> 2.1457660182022664e-07 [Valid Accuracy] ==> 1.0\n",
      "[20/5000] TRAIN 2.2706529989591218e-09, VALID 7.152553394007555e-08\n",
      "\n",
      "[Train loss] ==> 0.0 [Train Accuracy] ==> 1.0\n",
      "[Valid loss] ==> 1.6689293147464923e-07 [Valid Accuracy] ==> 1.0\n",
      "[21/5000] TRAIN 2.2706529989591218e-09, VALID 5.563097715821641e-08\n",
      "\n",
      "[Train loss] ==> 0.0 [Train Accuracy] ==> 1.0\n",
      "[Valid loss] ==> 1.9073476664743794e-07 [Valid Accuracy] ==> 1.0\n",
      "[22/5000] TRAIN 2.2706529989591218e-09, VALID 6.357825554914598e-08\n",
      "\n",
      "[Train loss] ==> 0.0 [Train Accuracy] ==> 1.0\n",
      "[Valid loss] ==> 1.6689293147464923e-07 [Valid Accuracy] ==> 1.0\n",
      "[23/5000] TRAIN 2.2706529989591218e-09, VALID 5.563097715821641e-08\n",
      "\n",
      "[Train loss] ==> 0.0 [Train Accuracy] ==> 1.0\n",
      "[Valid loss] ==> 1.9073476664743794e-07 [Valid Accuracy] ==> 1.0\n",
      "[24/5000] TRAIN 2.2706529989591218e-09, VALID 6.357825554914598e-08\n",
      "\n",
      "[Train loss] ==> 0.0 [Train Accuracy] ==> 1.0\n",
      "[Valid loss] ==> 2.3841843699301535e-07 [Valid Accuracy] ==> 1.0\n",
      "[25/5000] TRAIN 2.2706529989591218e-09, VALID 7.947281233100512e-08\n",
      "\n",
      "[Train loss] ==> 0.0 [Train Accuracy] ==> 1.0\n",
      "[Valid loss] ==> 1.9073476664743794e-07 [Valid Accuracy] ==> 1.0\n",
      "[26/5000] TRAIN 0.0, VALID 6.357825554914598e-08\n",
      "\n",
      "[Train loss] ==> 0.0 [Train Accuracy] ==> 1.0\n",
      "[Valid loss] ==> 2.1457660182022664e-07 [Valid Accuracy] ==> 1.0\n",
      "[27/5000] TRAIN 0.0, VALID 7.152553394007555e-08\n",
      "\n",
      "[Train loss] ==> 0.0 [Train Accuracy] ==> 1.0\n",
      "[Valid loss] ==> 1.9073476664743794e-07 [Valid Accuracy] ==> 1.0\n",
      "[28/5000] TRAIN 0.0, VALID 6.357825554914598e-08\n",
      "\n",
      "[Train loss] ==> 0.0 [Train Accuracy] ==> 1.0\n",
      "[Valid loss] ==> 2.1457660182022664e-07 [Valid Accuracy] ==> 1.0\n",
      "[29/5000] TRAIN 0.0, VALID 7.152553394007555e-08\n",
      "\n",
      "[Train loss] ==> 0.0 [Train Accuracy] ==> 1.0\n",
      "[Valid loss] ==> 2.1457660182022664e-07 [Valid Accuracy] ==> 1.0\n",
      "[30/5000] TRAIN 0.0, VALID 7.152553394007555e-08\n",
      "\n",
      "[Train loss] ==> 0.0 [Train Accuracy] ==> 1.0\n",
      "[Valid loss] ==> 2.1457660182022664e-07 [Valid Accuracy] ==> 1.0\n",
      "[31/5000] TRAIN 0.0, VALID 7.152553394007555e-08\n",
      "\n",
      "[Train loss] ==> 0.0 [Train Accuracy] ==> 1.0\n",
      "[Valid loss] ==> 2.1457660182022664e-07 [Valid Accuracy] ==> 1.0\n",
      "[32/5000] TRAIN 0.0, VALID 7.152553394007555e-08\n",
      "\n",
      "[Train loss] ==> 0.0 [Train Accuracy] ==> 1.0\n",
      "[Valid loss] ==> 2.1457660182022664e-07 [Valid Accuracy] ==> 1.0\n",
      "[33/5000] TRAIN 0.0, VALID 7.152553394007555e-08\n",
      "\n",
      "[Train loss] ==> 0.0 [Train Accuracy] ==> 1.0\n",
      "[Valid loss] ==> 2.1457660182022664e-07 [Valid Accuracy] ==> 1.0\n",
      "[34/5000] TRAIN 0.0, VALID 7.152553394007555e-08\n",
      "\n",
      "[Train loss] ==> 0.0 [Train Accuracy] ==> 1.0\n",
      "[Valid loss] ==> 2.1457660182022664e-07 [Valid Accuracy] ==> 1.0\n",
      "[35/5000] TRAIN 0.0, VALID 7.152553394007555e-08\n",
      "\n"
     ]
    }
   ],
   "source": [
    "### ===> 지정된 횟수만큼 처음부터 끝까지 학습 및 검증 진행\n",
    "### ===> 목표 : 최적(Error 최소화)의 W, b를 가진 모델 완성\n",
    "count = 0\n",
    "pre_val_loss = 0\n",
    "for eps in range(EPOCHS + 1):\n",
    "\n",
    "\n",
    "    # 학습\n",
    "    train_loss = training()\n",
    "    train_loss_mean = sum(train_loss) / len(train_loss)\n",
    "\n",
    "\n",
    "    # 검증\n",
    "    valid_loss, acc = testing(validDL)\n",
    "    valid_loss_mean = sum(valid_loss) / len(valid_loss)\n",
    "\n",
    "    print(f\"[{eps:2d}/{EPOCHS}] TRAIN {train_loss_mean}, VALID {valid_loss_mean}\\n\")\n",
    "\n",
    "    # 조기종료 기능 ==> 조건 : val_loss가 지정된 횟수(예: 5) 이상 개선이 안되면 학습 종료\n",
    "    if pre_val_loss == valid_loss_mean:\n",
    "        count += 1\n",
    "        if count > 5:\n",
    "            break\n",
    "    else:\n",
    "        count = 0\n",
    "    pre_val_loss = valid_loss_mean\n"
   ]
  },
  {
   "cell_type": "markdown",
   "metadata": {},
   "source": [
    "[7] 테스트 진행 <hr>\n"
   ]
  },
  {
   "cell_type": "code",
   "execution_count": 26,
   "metadata": {},
   "outputs": [
    {
     "name": "stdout",
     "output_type": "stream",
     "text": [
      "[Valid loss] ==> 1.5497150798182702e-06 [Valid Accuracy] ==> 1.0\n"
     ]
    }
   ],
   "source": [
    "test_loss, acc = testing(testDL)\n"
   ]
  },
  {
   "cell_type": "code",
   "execution_count": 29,
   "metadata": {},
   "outputs": [
    {
     "data": {
      "text/plain": [
       "1.7105290169507725"
      ]
     },
     "execution_count": 29,
     "metadata": {},
     "output_type": "execute_result"
    }
   ],
   "source": [
    "np.mean(test_loss)\n"
   ]
  },
  {
   "cell_type": "code",
   "execution_count": 28,
   "metadata": {},
   "outputs": [
    {
     "data": {
      "text/plain": [
       "tensor(1.)"
      ]
     },
     "execution_count": 28,
     "metadata": {},
     "output_type": "execute_result"
    }
   ],
   "source": [
    "acc\n"
   ]
  },
  {
   "cell_type": "code",
   "execution_count": null,
   "metadata": {},
   "outputs": [],
   "source": []
  }
 ],
 "metadata": {
  "kernelspec": {
   "display_name": "Torch_PY38",
   "language": "python",
   "name": "python3"
  },
  "language_info": {
   "codemirror_mode": {
    "name": "ipython",
    "version": 3
   },
   "file_extension": ".py",
   "mimetype": "text/x-python",
   "name": "python",
   "nbconvert_exporter": "python",
   "pygments_lexer": "ipython3",
   "version": "3.8.18"
  }
 },
 "nbformat": 4,
 "nbformat_minor": 2
}
