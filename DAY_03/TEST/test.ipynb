{
 "cells": [
  {
   "cell_type": "markdown",
   "metadata": {},
   "source": [
    "### 미니 테스트\n",
    "\n",
    "스스로 평가 진행 & 부족한 부분 당일 복습 2024. 03. 13. 수\n"
   ]
  },
  {
   "cell_type": "code",
   "execution_count": 1,
   "metadata": {},
   "outputs": [],
   "source": [
    "import torch\n"
   ]
  },
  {
   "cell_type": "code",
   "execution_count": 8,
   "metadata": {},
   "outputs": [],
   "source": [
    "def print_attr(data):\n",
    "    print(f'dtype => {data.dtype}')\n",
    "    print(f'ndim  => {data.ndim}')\n",
    "    print(f'shape => {data.shape}')\n",
    "    print(data)\n"
   ]
  },
  {
   "cell_type": "markdown",
   "metadata": {},
   "source": [
    "1. 화면상에서 Pytorch에서 데이터를 저장하는 단위는 ( )입니다.\n"
   ]
  },
  {
   "cell_type": "markdown",
   "metadata": {},
   "source": [
    "> -   Tensor\n"
   ]
  },
  {
   "cell_type": "markdown",
   "metadata": {},
   "source": [
    "2. 1번 문제에 해당하는 것의 특징을 간력히 설명해 보세요.\n"
   ]
  },
  {
   "cell_type": "markdown",
   "metadata": {},
   "source": [
    "> -   다차원 데이터를 담는 객체\n",
    "> -   배열이나 행렬과 유사한 자료구조\n",
    "> -   CPU나 GPU를 사용해 연산 수행 가능\n"
   ]
  },
  {
   "cell_type": "markdown",
   "metadata": {},
   "source": [
    "3. Pytorch에서 정수형 데이터를 저장하는 데이터 타입을 모두 나열하세요. 간단한 데이터 타입의 크기 설명도 함께 작성하세요.\n"
   ]
  },
  {
   "cell_type": "markdown",
   "metadata": {},
   "source": [
    "> -   torch.uint8 : 8비트 비부호 정수형 데이터 타입 (0 ~ 255)\n",
    "> -   torch.int8 : 8비트 정수형 데이터 타입 (-128 ~ 127)\n",
    "> -   torch.int16 : 16비트 정수형 데이터 타입 (-32,768 ~ 32,767)\n",
    "> -   torch.int32 : 32비트 정수형 데이터 타입 (-2,147,483,648 ~ 2,147,483,647)\n",
    "> -   torch.int64 : 64비트 정수형 데이터 타입 (-9,223,372,036,854,775,808 ~ 9,223,372,036,854,775,807)\n"
   ]
  },
  {
   "cell_type": "markdown",
   "metadata": {},
   "source": [
    "4. Pytorch에 논리형 데이터로 저장 후 속성을 출력하는 코드를 작성하세요.\n",
    "    - 데이터 : 10 -5 1.4 7 0 -1 0\n"
   ]
  },
  {
   "cell_type": "code",
   "execution_count": 9,
   "metadata": {},
   "outputs": [
    {
     "name": "stdout",
     "output_type": "stream",
     "text": [
      "dtype => torch.bool\n",
      "ndim  => 1\n",
      "shape => torch.Size([7])\n",
      "tensor([ True,  True,  True,  True, False,  True, False])\n"
     ]
    }
   ],
   "source": [
    "data1 = torch.tensor([10, -5, 1.4, 7, 0, -1, 0], dtype=torch.bool)\n",
    "print_attr(data1)\n"
   ]
  },
  {
   "cell_type": "markdown",
   "metadata": {},
   "source": [
    "5. 10개의 0 데이터를 2차원으로 저장 코드를 작성하세요.\n"
   ]
  },
  {
   "cell_type": "code",
   "execution_count": 17,
   "metadata": {},
   "outputs": [
    {
     "name": "stdout",
     "output_type": "stream",
     "text": [
      "dtype => torch.uint8\n",
      "ndim  => 2\n",
      "shape => torch.Size([2, 5])\n",
      "tensor([[0, 0, 0, 0, 0],\n",
      "        [0, 0, 0, 0, 0]], dtype=torch.uint8)\n"
     ]
    }
   ],
   "source": [
    "data2 = torch.zeros((2, 5), dtype=torch.uint8)\n",
    "print_attr(data2)\n"
   ]
  },
  {
   "cell_type": "markdown",
   "metadata": {},
   "source": [
    "6. 5개의 1 데이터가 대각선으로 저장되는 2차원 저장 코드를 작성하세요.\n"
   ]
  },
  {
   "cell_type": "code",
   "execution_count": 16,
   "metadata": {},
   "outputs": [
    {
     "name": "stdout",
     "output_type": "stream",
     "text": [
      "dtype => torch.uint8\n",
      "ndim  => 2\n",
      "shape => torch.Size([5, 5])\n",
      "tensor([[1, 0, 0, 0, 0],\n",
      "        [0, 1, 0, 0, 0],\n",
      "        [0, 0, 1, 0, 0],\n",
      "        [0, 0, 0, 1, 0],\n",
      "        [0, 0, 0, 0, 1]], dtype=torch.uint8)\n"
     ]
    }
   ],
   "source": [
    "data3 = torch.eye(5, 5, dtype=torch.uint8)\n",
    "print_attr(data3)\n"
   ]
  },
  {
   "cell_type": "markdown",
   "metadata": {},
   "source": [
    "7. 5번에서 저장된 형태와 동일하지만 값이 3이 저장된 코드를 작성하세요.\n"
   ]
  },
  {
   "cell_type": "code",
   "execution_count": 23,
   "metadata": {},
   "outputs": [
    {
     "name": "stdout",
     "output_type": "stream",
     "text": [
      "dtype => torch.uint8\n",
      "ndim  => 2\n",
      "shape => torch.Size([5, 5])\n",
      "tensor([[3, 0, 0, 0, 0],\n",
      "        [0, 3, 0, 0, 0],\n",
      "        [0, 0, 3, 0, 0],\n",
      "        [0, 0, 0, 3, 0],\n",
      "        [0, 0, 0, 0, 3]], dtype=torch.uint8)\n"
     ]
    }
   ],
   "source": [
    "data4 = torch.eye(5, 5, dtype=torch.uint8) * 3\n",
    "print_attr(data4)\n"
   ]
  },
  {
   "cell_type": "markdown",
   "metadata": {},
   "source": [
    "8. ndarray데이터를 Pytorch에 저장하는 코드를 작성하세요.\n",
    "    - 데이터 : 1 ~ 100 범위에서 7의 배수\n",
    "    - 데이터 타입 : float32\n",
    "    - 생서 방식 : 공유\n"
   ]
  },
  {
   "cell_type": "code",
   "execution_count": 30,
   "metadata": {},
   "outputs": [
    {
     "name": "stdout",
     "output_type": "stream",
     "text": [
      "[ 7 14 21 28 35 42 49 56 63 70 77 84 91 98]\n",
      "dtype => torch.float32\n",
      "ndim  => 1\n",
      "shape => torch.Size([14])\n",
      "tensor([ 7., 14., 21., 28., 35., 42., 49., 56., 63., 70., 77., 84., 91., 98.])\n"
     ]
    }
   ],
   "source": [
    "import numpy as np\n",
    "nd_data = np.arange(0, 101, step=7)[1:]\n",
    "print(nd_data)\n",
    "\n",
    "data5 = torch.from_numpy(nd_data).float()\n",
    "print_attr(data5)\n"
   ]
  },
  {
   "cell_type": "markdown",
   "metadata": {},
   "source": [
    "9. 아래 조건에 맞는 데이터를 Pytorch에 저장하는 코드를 작성하세요.\n",
    "    - 이미지 파일 : flower.jpg 파일\n",
    "    - 이미지 크기 : 120 x 80\n",
    "    - 데이터 타입 : int8\n",
    "    - 데이터 : 임의의 값\n"
   ]
  },
  {
   "cell_type": "code",
   "execution_count": 64,
   "metadata": {},
   "outputs": [
    {
     "name": "stdout",
     "output_type": "stream",
     "text": [
      "dtype => torch.uint8\n",
      "ndim  => 3\n",
      "shape => torch.Size([80, 120, 3])\n",
      "tensor([[[130, 241, 155],\n",
      "         [253, 162, 199],\n",
      "         [172, 196, 174],\n",
      "         ...,\n",
      "         [ 99, 180, 216],\n",
      "         [129,  42, 253],\n",
      "         [ 53, 233,  44]],\n",
      "\n",
      "        [[207, 108, 192],\n",
      "         [ 38,  43, 224],\n",
      "         [142, 205, 108],\n",
      "         ...,\n",
      "         [236, 137, 238],\n",
      "         [125, 202, 218],\n",
      "         [143, 113,  18]],\n",
      "\n",
      "        [[129,  15,   8],\n",
      "         [ 50, 204,  33],\n",
      "         [119, 146, 224],\n",
      "         ...,\n",
      "         [193, 210, 159],\n",
      "         [ 98,  35,  10],\n",
      "         [165, 105,  76]],\n",
      "\n",
      "        ...,\n",
      "\n",
      "        [[129,  53,  86],\n",
      "         [237,  73, 204],\n",
      "         [229,  99,  93],\n",
      "         ...,\n",
      "         [ 22, 241,  32],\n",
      "         [ 22,  76, 168],\n",
      "         [217, 144, 211]],\n",
      "\n",
      "        [[164,  35, 105],\n",
      "         [201,  83, 227],\n",
      "         [231, 204, 243],\n",
      "         ...,\n",
      "         [163, 126, 192],\n",
      "         [115, 169, 184],\n",
      "         [166, 200, 213]],\n",
      "\n",
      "        [[133,  91,  20],\n",
      "         [109, 147,  78],\n",
      "         [168, 144,  35],\n",
      "         ...,\n",
      "         [246, 212, 209],\n",
      "         [115,  93, 240],\n",
      "         [199,  87,  61]]], dtype=torch.uint8)\n"
     ]
    }
   ],
   "source": [
    "img = torch.randint(low=0, high=256, size=(80, 120, 3), dtype=torch.uint8)\n",
    "print_attr(img)\n"
   ]
  },
  {
   "cell_type": "markdown",
   "metadata": {},
   "source": [
    "10. 아래 조건에 맞도록 코드를 작성하세요.\n",
    "    -   데이터 : 임의의 정수 10개\n",
    "\n",
    "-   (1) 1D으로 저장\n",
    "-   (2) (1)에서 저장된 데이터를 요소 수 변경 없이 3D로 변환\n",
    "-   (3) (2)에서 저장된 데이터의 2개 차원 변경한 3D로 변환\n",
    "-   (4) (2)에서 저장된 데이터의 3개 차원 모두 변경한 3D로 변환\n"
   ]
  },
  {
   "cell_type": "code",
   "execution_count": 44,
   "metadata": {},
   "outputs": [
    {
     "name": "stdout",
     "output_type": "stream",
     "text": [
      "dtype => torch.uint8\n",
      "ndim  => 1\n",
      "shape => torch.Size([10])\n",
      "tensor([13, 30, 40, 98, 17,  7, 24, 71, 84,  6], dtype=torch.uint8)\n",
      "dtype => torch.uint8\n",
      "ndim  => 3\n",
      "shape => torch.Size([1, 2, 5])\n",
      "tensor([[[13, 30, 40, 98, 17],\n",
      "         [ 7, 24, 71, 84,  6]]], dtype=torch.uint8)\n",
      "dtype => torch.uint8\n",
      "ndim  => 3\n",
      "shape => torch.Size([1, 5, 2])\n",
      "tensor([[[13,  7],\n",
      "         [30, 24],\n",
      "         [40, 71],\n",
      "         [98, 84],\n",
      "         [17,  6]]], dtype=torch.uint8)\n",
      "dtype => torch.uint8\n",
      "ndim  => 3\n",
      "shape => torch.Size([5, 1, 2])\n",
      "tensor([[[13,  7]],\n",
      "\n",
      "        [[30, 24]],\n",
      "\n",
      "        [[40, 71]],\n",
      "\n",
      "        [[98, 84]],\n",
      "\n",
      "        [[17,  6]]], dtype=torch.uint8)\n"
     ]
    }
   ],
   "source": [
    "random_data = torch.randint(low=0, high=100, size=(10,), dtype=torch.uint8)\n",
    "print_attr(random_data)\n",
    "\n",
    "random_data_3D = random_data.view(2, 5)[None]\n",
    "print_attr(random_data_3D)\n",
    "\n",
    "random_data_swap2 = random_data_3D.transpose(1, 2)\n",
    "print_attr(random_data_swap2)\n",
    "\n",
    "random_data_swap3 = random_data_3D.permute(2, 0, 1)\n",
    "print_attr(random_data_swap3)\n"
   ]
  },
  {
   "cell_type": "markdown",
   "metadata": {},
   "source": [
    "11. 아래 조건에 맞도록 코드를 작성하세요.\n",
    "    -   데이터\n",
    "        -   국어 90, 70, 80\n",
    "        -   영어 70, 100, 80\n",
    "        -   수학 99, 88, 77\n",
    "\n",
    "-   (1) 위에 데이터를 저장\n",
    "-   (2) 과목별 합계, 평균, 최고점수 출력\n",
    "-   (3) 한 사람의 국어, 영어, 수학 점수 합계, 평균, 최고점수 출력\n"
   ]
  },
  {
   "cell_type": "code",
   "execution_count": 53,
   "metadata": {},
   "outputs": [
    {
     "name": "stdout",
     "output_type": "stream",
     "text": [
      "dtype => torch.int64\n",
      "ndim  => 2\n",
      "shape => torch.Size([3, 3])\n",
      "tensor([[ 90,  70,  80],\n",
      "        [ 70, 100,  80],\n",
      "        [ 99,  88,  77]])\n"
     ]
    },
    {
     "data": {
      "text/plain": [
       "(tensor([259, 258, 237]),\n",
       " tensor([86.3333, 86.0000, 79.0000]),\n",
       " tensor([ 99, 100,  80]))"
      ]
     },
     "execution_count": 53,
     "metadata": {},
     "output_type": "execute_result"
    }
   ],
   "source": [
    "data6 = torch.tensor([[90, 70, 80], [70, 100, 80], [99, 88, 77]])\n",
    "print_attr(data6)\n",
    "\n",
    "data6.sum(dim=1), data6.float().mean(dim=1), data6.max(dim=1)[0]\n",
    "\n",
    "data6.sum(dim=0), data6.float().mean(dim=0), data6.max(dim=0)[0]\n"
   ]
  },
  {
   "cell_type": "markdown",
   "metadata": {},
   "source": [
    "12. 아래 조건에 맞도록 코드를 작성하세요.\n",
    "    -   데이터 1\n",
    "        -   국어 90, 70, 80\n",
    "        -   영어 70, 100, 80\n",
    "        -   수학 99, 88, 77\n",
    "    -   데이터 2\n",
    "        -   05, 02, 0.7\n",
    "\n",
    "-   (1) 위에 데이터를 저장\n",
    "-   (2) 데이터1과 데이터2의 사칙연산 결과\n",
    "-   (3) 데이터1과 데이터2의 행렬곱셈\n"
   ]
  },
  {
   "cell_type": "code",
   "execution_count": 62,
   "metadata": {},
   "outputs": [
    {
     "name": "stdout",
     "output_type": "stream",
     "text": [
      "dtype => torch.int64\n",
      "ndim  => 2\n",
      "shape => torch.Size([3, 3])\n",
      "tensor([[ 90,  70,  80],\n",
      "        [ 70, 100,  80],\n",
      "        [ 99,  88,  77]])\n",
      "dtype => torch.float32\n",
      "ndim  => 1\n",
      "shape => torch.Size([3])\n",
      "tensor([0.5000, 0.2000, 0.7000])\n"
     ]
    },
    {
     "data": {
      "text/plain": [
       "tensor([[115.],\n",
       "        [111.],\n",
       "        [121.]])"
      ]
     },
     "execution_count": 62,
     "metadata": {},
     "output_type": "execute_result"
    }
   ],
   "source": [
    "data7 = torch.tensor([[90, 70, 80], [70, 100, 80], [99, 88, 77]])\n",
    "print_attr(data7)\n",
    "data8 = torch.tensor([.5, .2, .7])\n",
    "print_attr(data8)\n",
    "\n",
    "data7 + data8, data7 - data8, data7 * data8, data7 / data8, data7 ** data8\n",
    "\n",
    "data7.float().matmul(data8.unsqueeze(1))\n"
   ]
  },
  {
   "cell_type": "code",
   "execution_count": null,
   "metadata": {},
   "outputs": [],
   "source": []
  }
 ],
 "metadata": {
  "kernelspec": {
   "display_name": "Torch_PY38",
   "language": "python",
   "name": "python3"
  },
  "language_info": {
   "codemirror_mode": {
    "name": "ipython",
    "version": 3
   },
   "file_extension": ".py",
   "mimetype": "text/x-python",
   "name": "python",
   "nbconvert_exporter": "python",
   "pygments_lexer": "ipython3",
   "version": "3.8.18"
  }
 },
 "nbformat": 4,
 "nbformat_minor": 2
}
