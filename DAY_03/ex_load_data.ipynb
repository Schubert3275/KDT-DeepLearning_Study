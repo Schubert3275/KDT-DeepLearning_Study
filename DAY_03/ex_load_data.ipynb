{
 "cells": [
  {
   "cell_type": "code",
   "execution_count": 4,
   "metadata": {},
   "outputs": [],
   "source": [
    "# 모듈로딩\n",
    "import imageio.v3 as imageio  # 이미지 데이터 관련 모듈\n",
    "import torch    # pytorch 텐서 및 기본 함수 모듈\n"
   ]
  },
  {
   "cell_type": "code",
   "execution_count": 5,
   "metadata": {},
   "outputs": [],
   "source": [
    "# 이미지 데이터 로딩\n",
    "filename = '../data/img/DysonSphere.jpg'\n"
   ]
  },
  {
   "cell_type": "code",
   "execution_count": 7,
   "metadata": {},
   "outputs": [
    {
     "name": "stdout",
     "output_type": "stream",
     "text": [
      "(484, 600, 3) 3\n"
     ]
    }
   ],
   "source": [
    "img_data = imageio.imread(filename)\n",
    "\n",
    "print(img_data.shape, img_data.ndim)\n"
   ]
  },
  {
   "cell_type": "code",
   "execution_count": 8,
   "metadata": {},
   "outputs": [],
   "source": [
    "# ndarray => tensor 변환 : [행(높이), 열(너비), 채널]\n",
    "img_t1 = torch.tensor(img_data)\n",
    "img_t2 = torch.from_numpy(img_data)\n",
    "img_t3 = torch.as_tensor(img_data)\n"
   ]
  },
  {
   "cell_type": "code",
   "execution_count": 9,
   "metadata": {},
   "outputs": [
    {
     "name": "stdout",
     "output_type": "stream",
     "text": [
      "torch.Size([484, 600, 3]) 3\n",
      "torch.Size([484, 600, 3]) 3\n",
      "torch.Size([484, 600, 3]) 3\n"
     ]
    }
   ],
   "source": [
    "print(img_t1.shape, img_t1.ndim)\n",
    "print(img_t2.shape, img_t2.ndim)\n",
    "print(img_t3.shape, img_t3.ndim)\n"
   ]
  },
  {
   "cell_type": "code",
   "execution_count": 12,
   "metadata": {},
   "outputs": [
    {
     "data": {
      "text/plain": [
       "torch.Size([3, 484, 600])"
      ]
     },
     "execution_count": 12,
     "metadata": {},
     "output_type": "execute_result"
    }
   ],
   "source": [
    "# [행(높이), 열(너비), 채널] ==> [채널, 행(높이), 열(너비)]\n",
    "img_t1.permute(2, 0, 1).shape\n"
   ]
  },
  {
   "cell_type": "code",
   "execution_count": null,
   "metadata": {},
   "outputs": [],
   "source": []
  }
 ],
 "metadata": {
  "kernelspec": {
   "display_name": "Torch_PY38",
   "language": "python",
   "name": "python3"
  },
  "language_info": {
   "codemirror_mode": {
    "name": "ipython",
    "version": 3
   },
   "file_extension": ".py",
   "mimetype": "text/x-python",
   "name": "python",
   "nbconvert_exporter": "python",
   "pygments_lexer": "ipython3",
   "version": "3.8.18"
  }
 },
 "nbformat": 4,
 "nbformat_minor": 2
}
