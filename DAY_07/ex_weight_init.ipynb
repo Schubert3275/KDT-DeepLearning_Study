{
 "cells": [
  {
   "cell_type": "code",
   "execution_count": 23,
   "metadata": {},
   "outputs": [],
   "source": [
    "import torch\n",
    "import torch.nn as nn\n",
    "\n",
    "\n",
    "class Net(nn.Module):\n",
    "    # 모델의 구성 요소 생성 및 구조 설정\n",
    "    def __init__(self):\n",
    "        super().__init__()\n",
    "\n",
    "        self.fc1 = nn.Linear(8, 4)\n",
    "        self.fc2 = nn.Linear(4, 2)\n",
    "        self.drop = nn.Dropout(0.5)\n",
    "        self.fc3 = nn.Linear(2, 1)\n",
    "\n",
    "    # 순방향 학습 진행 함수\n",
    "    def forward(self, x):\n",
    "        return self.fc3(self.drop(self.fc2(self.fc1(x))))\n"
   ]
  },
  {
   "cell_type": "code",
   "execution_count": 24,
   "metadata": {},
   "outputs": [
    {
     "name": "stdout",
     "output_type": "stream",
     "text": [
      "Net(\n",
      "  (fc1): Linear(in_features=8, out_features=4, bias=True)\n",
      "  (fc2): Linear(in_features=4, out_features=2, bias=True)\n",
      "  (drop): Dropout(p=0.5, inplace=False)\n",
      "  (fc3): Linear(in_features=2, out_features=1, bias=True)\n",
      ")\n"
     ]
    },
    {
     "data": {
      "text/plain": [
       "=================================================================\n",
       "Layer (type:depth-idx)                   Param #\n",
       "=================================================================\n",
       "Net                                      --\n",
       "├─Linear: 1-1                            36\n",
       "├─Linear: 1-2                            10\n",
       "├─Dropout: 1-3                           --\n",
       "├─Linear: 1-4                            3\n",
       "=================================================================\n",
       "Total params: 49\n",
       "Trainable params: 49\n",
       "Non-trainable params: 0\n",
       "================================================================="
      ]
     },
     "execution_count": 24,
     "metadata": {},
     "output_type": "execute_result"
    }
   ],
   "source": [
    "from torchinfo import summary\n",
    "\n",
    "model = Net()\n",
    "\n",
    "print(model)\n",
    "\n",
    "summary(model)\n"
   ]
  },
  {
   "cell_type": "code",
   "execution_count": 2,
   "metadata": {},
   "outputs": [],
   "source": [
    "## 모델 인스턴스 생성\n",
    "model = Net()\n"
   ]
  },
  {
   "cell_type": "code",
   "execution_count": 6,
   "metadata": {},
   "outputs": [
    {
     "data": {
      "text/plain": [
       "(Parameter containing:\n",
       " tensor([[-0.0021, -0.1120, -0.2482, -0.0970, -0.0647,  0.2996,  0.1490, -0.0564],\n",
       "         [ 0.0359,  0.0087, -0.0895,  0.0281,  0.1194,  0.2672,  0.1577, -0.0921],\n",
       "         [-0.1676,  0.0260, -0.2375,  0.0394, -0.2164, -0.0984,  0.1164,  0.1717],\n",
       "         [ 0.0183,  0.0503,  0.1859,  0.0784, -0.3048,  0.1734, -0.0094, -0.1519]],\n",
       "        requires_grad=True),\n",
       " Parameter containing:\n",
       " tensor([ 0.0439, -0.0806,  0.2727, -0.2666], requires_grad=True))"
      ]
     },
     "execution_count": 6,
     "metadata": {},
     "output_type": "execute_result"
    }
   ],
   "source": [
    "## 모델 인스턴스 속성 확인\n",
    "# 모델의 특정 층 추출\n",
    "model.fc1.weight, model.fc1.bias\n"
   ]
  },
  {
   "cell_type": "code",
   "execution_count": 4,
   "metadata": {},
   "outputs": [
    {
     "name": "stdout",
     "output_type": "stream",
     "text": [
      "Parameter containing:\n",
      "tensor([[-0.0021, -0.1120, -0.2482, -0.0970, -0.0647,  0.2996,  0.1490, -0.0564],\n",
      "        [ 0.0359,  0.0087, -0.0895,  0.0281,  0.1194,  0.2672,  0.1577, -0.0921],\n",
      "        [-0.1676,  0.0260, -0.2375,  0.0394, -0.2164, -0.0984,  0.1164,  0.1717],\n",
      "        [ 0.0183,  0.0503,  0.1859,  0.0784, -0.3048,  0.1734, -0.0094, -0.1519]],\n",
      "       requires_grad=True)\n",
      "\n",
      "Parameter containing:\n",
      "tensor([ 0.0439, -0.0806,  0.2727, -0.2666], requires_grad=True)\n",
      "\n",
      "Parameter containing:\n",
      "tensor([[ 0.0782, -0.4832,  0.1487,  0.2208],\n",
      "        [ 0.2517,  0.3916, -0.4040,  0.3712]], requires_grad=True)\n",
      "\n",
      "Parameter containing:\n",
      "tensor([ 0.2174, -0.1971], requires_grad=True)\n",
      "\n",
      "Parameter containing:\n",
      "tensor([[-0.2627, -0.0052]], requires_grad=True)\n",
      "\n",
      "Parameter containing:\n",
      "tensor([0.4522], requires_grad=True)\n",
      "\n"
     ]
    }
   ],
   "source": [
    "# 모델의 각 층별 W, b 텐서 정보 확인\n",
    "for parm in model.parameters():\n",
    "    print(parm, end=\"\\n\\n\")\n"
   ]
  },
  {
   "cell_type": "code",
   "execution_count": 5,
   "metadata": {},
   "outputs": [
    {
     "name": "stdout",
     "output_type": "stream",
     "text": [
      "('fc1.weight', Parameter containing:\n",
      "tensor([[-0.0021, -0.1120, -0.2482, -0.0970, -0.0647,  0.2996,  0.1490, -0.0564],\n",
      "        [ 0.0359,  0.0087, -0.0895,  0.0281,  0.1194,  0.2672,  0.1577, -0.0921],\n",
      "        [-0.1676,  0.0260, -0.2375,  0.0394, -0.2164, -0.0984,  0.1164,  0.1717],\n",
      "        [ 0.0183,  0.0503,  0.1859,  0.0784, -0.3048,  0.1734, -0.0094, -0.1519]],\n",
      "       requires_grad=True))\n",
      "\n",
      "('fc1.bias', Parameter containing:\n",
      "tensor([ 0.0439, -0.0806,  0.2727, -0.2666], requires_grad=True))\n",
      "\n",
      "('fc2.weight', Parameter containing:\n",
      "tensor([[ 0.0782, -0.4832,  0.1487,  0.2208],\n",
      "        [ 0.2517,  0.3916, -0.4040,  0.3712]], requires_grad=True))\n",
      "\n",
      "('fc2.bias', Parameter containing:\n",
      "tensor([ 0.2174, -0.1971], requires_grad=True))\n",
      "\n",
      "('fc3.weight', Parameter containing:\n",
      "tensor([[-0.2627, -0.0052]], requires_grad=True))\n",
      "\n",
      "('fc3.bias', Parameter containing:\n",
      "tensor([0.4522], requires_grad=True))\n",
      "\n"
     ]
    }
   ],
   "source": [
    "for parm in model.named_parameters():\n",
    "    print(parm, end=\"\\n\\n\")\n"
   ]
  },
  {
   "cell_type": "code",
   "execution_count": 16,
   "metadata": {},
   "outputs": [
    {
     "name": "stdout",
     "output_type": "stream",
     "text": [
      "Linear(in_features=8, out_features=4, bias=True)\n",
      "\n",
      "Linear(in_features=4, out_features=2, bias=True)\n",
      "\n",
      "Linear(in_features=2, out_features=1, bias=True)\n",
      "\n",
      "('fc1', Linear(in_features=8, out_features=4, bias=True))\n",
      "\n",
      "('fc2', Linear(in_features=4, out_features=2, bias=True))\n",
      "\n",
      "('fc3', Linear(in_features=2, out_features=1, bias=True))\n",
      "\n"
     ]
    }
   ],
   "source": [
    "# 모델 구성 모든 Layer 가져오기\n",
    "for child in model.children():\n",
    "    print(child, end=\"\\n\\n\")\n",
    "\n",
    "for child in model.named_children():\n",
    "    print(child, end=\"\\n\\n\")\n"
   ]
  },
  {
   "cell_type": "markdown",
   "metadata": {},
   "source": [
    "-   Layer의 가중치 설정\n"
   ]
  },
  {
   "cell_type": "code",
   "execution_count": 12,
   "metadata": {},
   "outputs": [
    {
     "data": {
      "text/plain": [
       "Parameter containing:\n",
       "tensor([[ 0.3689,  0.3079, -0.1480,  0.1316,  0.2490,  0.0149, -0.4430, -0.6273],\n",
       "        [-0.1912,  0.1250, -0.0652, -0.3685,  0.4212,  0.1478,  0.6177, -0.1721],\n",
       "        [-0.1503,  0.2035,  0.2944, -0.4188,  0.1718,  0.4152,  0.5445,  0.0068],\n",
       "        [ 0.4889,  0.1658, -0.5495, -0.4628, -0.3741,  0.2029,  0.3915, -0.3051]],\n",
       "       requires_grad=True)"
      ]
     },
     "execution_count": 12,
     "metadata": {},
     "output_type": "execute_result"
    }
   ],
   "source": [
    "# 세이비어 알고리즘의 가중치 초기화\n",
    "nn.init.xavier_uniform_(model.fc1.weight)\n"
   ]
  },
  {
   "cell_type": "code",
   "execution_count": 13,
   "metadata": {},
   "outputs": [
    {
     "data": {
      "text/plain": [
       "Parameter containing:\n",
       "tensor([[ 1.0253,  0.3091, -0.3823,  1.2523],\n",
       "        [-0.6222, -0.0872,  0.0328,  0.4162]], requires_grad=True)"
      ]
     },
     "execution_count": 13,
     "metadata": {},
     "output_type": "execute_result"
    }
   ],
   "source": [
    "# 헤 알고리즘의 가중치 초기화\n",
    "nn.init.kaiming_normal_(model.fc2.weight)\n"
   ]
  },
  {
   "cell_type": "code",
   "execution_count": 14,
   "metadata": {},
   "outputs": [
    {
     "name": "stdout",
     "output_type": "stream",
     "text": [
      "fc1 Linear(in_features=8, out_features=4, bias=True)\n",
      "fc2 Linear(in_features=4, out_features=2, bias=True)\n",
      "fc3 Linear(in_features=2, out_features=1, bias=True)\n"
     ]
    }
   ],
   "source": [
    "for name, child in model.named_children():\n",
    "    print(name, child)\n"
   ]
  },
  {
   "cell_type": "code",
   "execution_count": null,
   "metadata": {},
   "outputs": [],
   "source": []
  }
 ],
 "metadata": {
  "kernelspec": {
   "display_name": "Torch_PY38",
   "language": "python",
   "name": "python3"
  },
  "language_info": {
   "codemirror_mode": {
    "name": "ipython",
    "version": 3
   },
   "file_extension": ".py",
   "mimetype": "text/x-python",
   "name": "python",
   "nbconvert_exporter": "python",
   "pygments_lexer": "ipython3",
   "version": "3.8.18"
  }
 },
 "nbformat": 4,
 "nbformat_minor": 2
}
